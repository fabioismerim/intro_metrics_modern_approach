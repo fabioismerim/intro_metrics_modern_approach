{
 "cells": [
  {
   "cell_type": "markdown",
   "id": "dd1bacee-3e09-4fc6-9bae-e256b849d3f7",
   "metadata": {},
   "source": [
    "# Chapter 02"
   ]
  },
  {
   "cell_type": "code",
   "execution_count": 1,
   "id": "8d14ba9b-0d9c-4be7-96c8-27f86015ca09",
   "metadata": {
    "tags": []
   },
   "outputs": [],
   "source": [
    "import wooldridge as wr\n",
    "import pandas as pd\n",
    "import numpy as np\n",
    "import statsmodels.api as sm\n",
    "import statsmodels.formula.api as smf\n",
    "\n",
    "pd.set_option('display.max_columns', 500)\n",
    "pd.set_option('display.width', 1000)"
   ]
  },
  {
   "cell_type": "markdown",
   "id": "dc73c33a-7936-473e-a215-32d4abcbc5f7",
   "metadata": {},
   "source": [
    "### C1"
   ]
  },
  {
   "cell_type": "code",
   "execution_count": 2,
   "id": "31713d99-bc89-4a6a-9620-1a781ddf1b8f",
   "metadata": {
    "tags": []
   },
   "outputs": [
    {
     "data": {
      "text/html": [
       "<div>\n",
       "<style scoped>\n",
       "    .dataframe tbody tr th:only-of-type {\n",
       "        vertical-align: middle;\n",
       "    }\n",
       "\n",
       "    .dataframe tbody tr th {\n",
       "        vertical-align: top;\n",
       "    }\n",
       "\n",
       "    .dataframe thead th {\n",
       "        text-align: right;\n",
       "    }\n",
       "</style>\n",
       "<table border=\"1\" class=\"dataframe\">\n",
       "  <thead>\n",
       "    <tr style=\"text-align: right;\">\n",
       "      <th></th>\n",
       "      <th>prate</th>\n",
       "      <th>mrate</th>\n",
       "      <th>totpart</th>\n",
       "      <th>totelg</th>\n",
       "      <th>age</th>\n",
       "      <th>totemp</th>\n",
       "      <th>sole</th>\n",
       "      <th>ltotemp</th>\n",
       "    </tr>\n",
       "  </thead>\n",
       "  <tbody>\n",
       "    <tr>\n",
       "      <th>0</th>\n",
       "      <td>26.100000</td>\n",
       "      <td>0.21</td>\n",
       "      <td>1653.0</td>\n",
       "      <td>6322.0</td>\n",
       "      <td>8</td>\n",
       "      <td>8709.0</td>\n",
       "      <td>0</td>\n",
       "      <td>9.072112</td>\n",
       "    </tr>\n",
       "    <tr>\n",
       "      <th>1</th>\n",
       "      <td>100.000000</td>\n",
       "      <td>1.42</td>\n",
       "      <td>262.0</td>\n",
       "      <td>262.0</td>\n",
       "      <td>6</td>\n",
       "      <td>315.0</td>\n",
       "      <td>1</td>\n",
       "      <td>5.752573</td>\n",
       "    </tr>\n",
       "    <tr>\n",
       "      <th>2</th>\n",
       "      <td>97.599998</td>\n",
       "      <td>0.91</td>\n",
       "      <td>166.0</td>\n",
       "      <td>170.0</td>\n",
       "      <td>10</td>\n",
       "      <td>275.0</td>\n",
       "      <td>1</td>\n",
       "      <td>5.616771</td>\n",
       "    </tr>\n",
       "    <tr>\n",
       "      <th>3</th>\n",
       "      <td>100.000000</td>\n",
       "      <td>0.42</td>\n",
       "      <td>257.0</td>\n",
       "      <td>257.0</td>\n",
       "      <td>7</td>\n",
       "      <td>500.0</td>\n",
       "      <td>0</td>\n",
       "      <td>6.214608</td>\n",
       "    </tr>\n",
       "    <tr>\n",
       "      <th>4</th>\n",
       "      <td>82.500000</td>\n",
       "      <td>0.53</td>\n",
       "      <td>591.0</td>\n",
       "      <td>716.0</td>\n",
       "      <td>28</td>\n",
       "      <td>933.0</td>\n",
       "      <td>1</td>\n",
       "      <td>6.838405</td>\n",
       "    </tr>\n",
       "  </tbody>\n",
       "</table>\n",
       "</div>"
      ],
      "text/plain": [
       "        prate  mrate  totpart  totelg  age  totemp  sole   ltotemp\n",
       "0   26.100000   0.21   1653.0  6322.0    8  8709.0     0  9.072112\n",
       "1  100.000000   1.42    262.0   262.0    6   315.0     1  5.752573\n",
       "2   97.599998   0.91    166.0   170.0   10   275.0     1  5.616771\n",
       "3  100.000000   0.42    257.0   257.0    7   500.0     0  6.214608\n",
       "4   82.500000   0.53    591.0   716.0   28   933.0     1  6.838405"
      ]
     },
     "execution_count": 2,
     "metadata": {},
     "output_type": "execute_result"
    }
   ],
   "source": [
    "df_401 = wr.data('401k')\n",
    "df_401.head()"
   ]
  },
  {
   "cell_type": "code",
   "execution_count": 3,
   "id": "9283e0f1-0db0-4192-88a9-e37380e97a4c",
   "metadata": {
    "tags": []
   },
   "outputs": [
    {
     "name": "stdout",
     "output_type": "stream",
     "text": [
      "name of dataset: 401k\n",
      "no of variables: 8\n",
      "no of observations: 1534\n",
      "\n",
      "+----------+---------------------------------+\n",
      "| variable | label                           |\n",
      "+----------+---------------------------------+\n",
      "| prate    | participation rate, percent     |\n",
      "| mrate    | 401k plan match rate            |\n",
      "| totpart  | total 401k participants         |\n",
      "| totelg   | total eligible for 401k plan    |\n",
      "| age      | age of 401k plan                |\n",
      "| totemp   | total number of firm employees  |\n",
      "| sole     | = 1 if 401k is firm's sole plan |\n",
      "| ltotemp  | log of totemp                   |\n",
      "+----------+---------------------------------+\n",
      "\n",
      "L.E. Papke (1995), “Participation in and Contributions to 401(k)\n",
      "Pension Plans:Evidence from Plan Data,” Journal of Human Resources 30,\n",
      "311-325. Professor Papke kindly provided these data. She gathered them\n",
      "from the Internal Revenue Service’s Form 5500 tapes.\n"
     ]
    }
   ],
   "source": [
    "#dataset desc\n",
    "wr.data('401k', description=True)"
   ]
  },
  {
   "cell_type": "code",
   "execution_count": 4,
   "id": "8de43887-5fdb-45e7-bce5-6689c34db844",
   "metadata": {
    "tags": []
   },
   "outputs": [
    {
     "data": {
      "text/plain": [
       "87.3629074562948"
      ]
     },
     "metadata": {},
     "output_type": "display_data"
    },
    {
     "data": {
      "text/plain": [
       "0.7315123849943027"
      ]
     },
     "metadata": {},
     "output_type": "display_data"
    }
   ],
   "source": [
    "# C1 i\n",
    "\n",
    "## mean participation rate\n",
    "display(df_401['prate'].mean())\n",
    "\n",
    "## mean plan match rate\n",
    "display(df_401['mrate'].mean())"
   ]
  },
  {
   "cell_type": "code",
   "execution_count": 5,
   "id": "d0477314-6f9b-489c-9e10-e041ca617486",
   "metadata": {
    "tags": []
   },
   "outputs": [
    {
     "name": "stdout",
     "output_type": "stream",
     "text": [
      "                            OLS Regression Results                            \n",
      "==============================================================================\n",
      "Dep. Variable:                  prate   R-squared:                       0.075\n",
      "Model:                            OLS   Adj. R-squared:                  0.074\n",
      "Method:                 Least Squares   F-statistic:                     123.7\n",
      "Date:                Thu, 01 Jun 2023   Prob (F-statistic):           1.10e-27\n",
      "Time:                        11:08:14   Log-Likelihood:                -6437.0\n",
      "No. Observations:                1534   AIC:                         1.288e+04\n",
      "Df Residuals:                    1532   BIC:                         1.289e+04\n",
      "Df Model:                           1                                         \n",
      "Covariance Type:            nonrobust                                         \n",
      "==============================================================================\n",
      "                 coef    std err          t      P>|t|      [0.025      0.975]\n",
      "------------------------------------------------------------------------------\n",
      "Intercept     83.0755      0.563    147.484      0.000      81.971      84.180\n",
      "mrate          5.8611      0.527     11.121      0.000       4.827       6.895\n",
      "==============================================================================\n",
      "Omnibus:                      394.767   Durbin-Watson:                   1.908\n",
      "Prob(Omnibus):                  0.000   Jarque-Bera (JB):              870.172\n",
      "Skew:                          -1.444   Prob(JB):                    1.11e-189\n",
      "Kurtosis:                       5.296   Cond. No.                         2.32\n",
      "==============================================================================\n",
      "\n",
      "Notes:\n",
      "[1] Standard Errors assume that the covariance matrix of the errors is correctly specified.\n",
      "From summary above we've N = 1534 and R2 = .075\n"
     ]
    }
   ],
   "source": [
    "# C1 ii\n",
    "model = smf.ols('prate ~ mrate',\n",
    "                data = df_401).fit()\n",
    "\n",
    "print(model.summary())\n",
    "print(\"From summary above we've N = 1534 and R2 = .075\")"
   ]
  },
  {
   "cell_type": "markdown",
   "id": "db42da90-d14b-4443-a808-d491d35d3b3b",
   "metadata": {},
   "source": [
    "#### c1 iii\n",
    "\n",
    "The intercept could be considered the participartion rate without macthing rate. (83% of workforce). The mrate coef. is the increase of participation for each dollar matching (ex. for each dollar on matching contribution, we've a 5% of additional participation)\n"
   ]
  },
  {
   "cell_type": "code",
   "execution_count": 6,
   "id": "9d44a17f-79df-4168-8254-b8ae8a3cbfd1",
   "metadata": {
    "tags": []
   },
   "outputs": [
    {
     "data": {
      "text/plain": [
       "0    103.589233\n",
       "dtype: float64"
      ]
     },
     "execution_count": 6,
     "metadata": {},
     "output_type": "execute_result"
    }
   ],
   "source": [
    "## C1 iv\n",
    "model.predict(exog=dict(mrate=3.5))"
   ]
  },
  {
   "cell_type": "markdown",
   "id": "2ba3e2db-4a5b-41eb-b842-f6fd12b70ef9",
   "metadata": {},
   "source": [
    "With more contribution more the participants we have in the program"
   ]
  },
  {
   "cell_type": "markdown",
   "id": "b814db9f-0fef-45fe-b9ea-21f425ec43f8",
   "metadata": {},
   "source": [
    "#### C1 v\n",
    "\n",
    "7.5% of the prate variation is explained for mrate. This is a lower R2, so we have a many anothers factors on error term that helps explain the prate variation."
   ]
  },
  {
   "cell_type": "markdown",
   "id": "9903382f-6f6a-42f1-86dd-ba7b1d632c27",
   "metadata": {},
   "source": [
    "### C2"
   ]
  },
  {
   "cell_type": "code",
   "execution_count": 7,
   "id": "c41ac86d-7368-4168-b078-60494c390c39",
   "metadata": {
    "tags": []
   },
   "outputs": [
    {
     "data": {
      "text/html": [
       "<div>\n",
       "<style scoped>\n",
       "    .dataframe tbody tr th:only-of-type {\n",
       "        vertical-align: middle;\n",
       "    }\n",
       "\n",
       "    .dataframe tbody tr th {\n",
       "        vertical-align: top;\n",
       "    }\n",
       "\n",
       "    .dataframe thead th {\n",
       "        text-align: right;\n",
       "    }\n",
       "</style>\n",
       "<table border=\"1\" class=\"dataframe\">\n",
       "  <thead>\n",
       "    <tr style=\"text-align: right;\">\n",
       "      <th></th>\n",
       "      <th>salary</th>\n",
       "      <th>age</th>\n",
       "      <th>college</th>\n",
       "      <th>grad</th>\n",
       "      <th>comten</th>\n",
       "      <th>ceoten</th>\n",
       "      <th>sales</th>\n",
       "      <th>profits</th>\n",
       "      <th>mktval</th>\n",
       "      <th>lsalary</th>\n",
       "      <th>lsales</th>\n",
       "      <th>lmktval</th>\n",
       "      <th>comtensq</th>\n",
       "      <th>ceotensq</th>\n",
       "      <th>profmarg</th>\n",
       "    </tr>\n",
       "  </thead>\n",
       "  <tbody>\n",
       "    <tr>\n",
       "      <th>0</th>\n",
       "      <td>1161</td>\n",
       "      <td>49</td>\n",
       "      <td>1</td>\n",
       "      <td>1</td>\n",
       "      <td>9</td>\n",
       "      <td>2</td>\n",
       "      <td>6200.0</td>\n",
       "      <td>966</td>\n",
       "      <td>23200.0</td>\n",
       "      <td>7.057037</td>\n",
       "      <td>8.732305</td>\n",
       "      <td>10.051908</td>\n",
       "      <td>81</td>\n",
       "      <td>4</td>\n",
       "      <td>15.580646</td>\n",
       "    </tr>\n",
       "    <tr>\n",
       "      <th>1</th>\n",
       "      <td>600</td>\n",
       "      <td>43</td>\n",
       "      <td>1</td>\n",
       "      <td>1</td>\n",
       "      <td>10</td>\n",
       "      <td>10</td>\n",
       "      <td>283.0</td>\n",
       "      <td>48</td>\n",
       "      <td>1100.0</td>\n",
       "      <td>6.396930</td>\n",
       "      <td>5.645447</td>\n",
       "      <td>7.003066</td>\n",
       "      <td>100</td>\n",
       "      <td>100</td>\n",
       "      <td>16.961130</td>\n",
       "    </tr>\n",
       "    <tr>\n",
       "      <th>2</th>\n",
       "      <td>379</td>\n",
       "      <td>51</td>\n",
       "      <td>1</td>\n",
       "      <td>1</td>\n",
       "      <td>9</td>\n",
       "      <td>3</td>\n",
       "      <td>169.0</td>\n",
       "      <td>40</td>\n",
       "      <td>1100.0</td>\n",
       "      <td>5.937536</td>\n",
       "      <td>5.129899</td>\n",
       "      <td>7.003066</td>\n",
       "      <td>81</td>\n",
       "      <td>9</td>\n",
       "      <td>23.668638</td>\n",
       "    </tr>\n",
       "    <tr>\n",
       "      <th>3</th>\n",
       "      <td>651</td>\n",
       "      <td>55</td>\n",
       "      <td>1</td>\n",
       "      <td>0</td>\n",
       "      <td>22</td>\n",
       "      <td>22</td>\n",
       "      <td>1100.0</td>\n",
       "      <td>-54</td>\n",
       "      <td>1000.0</td>\n",
       "      <td>6.478509</td>\n",
       "      <td>7.003066</td>\n",
       "      <td>6.907755</td>\n",
       "      <td>484</td>\n",
       "      <td>484</td>\n",
       "      <td>-4.909091</td>\n",
       "    </tr>\n",
       "    <tr>\n",
       "      <th>4</th>\n",
       "      <td>497</td>\n",
       "      <td>44</td>\n",
       "      <td>1</td>\n",
       "      <td>1</td>\n",
       "      <td>8</td>\n",
       "      <td>6</td>\n",
       "      <td>351.0</td>\n",
       "      <td>28</td>\n",
       "      <td>387.0</td>\n",
       "      <td>6.208590</td>\n",
       "      <td>5.860786</td>\n",
       "      <td>5.958425</td>\n",
       "      <td>64</td>\n",
       "      <td>36</td>\n",
       "      <td>7.977208</td>\n",
       "    </tr>\n",
       "  </tbody>\n",
       "</table>\n",
       "</div>"
      ],
      "text/plain": [
       "   salary  age  college  grad  comten  ceoten   sales  profits   mktval   lsalary    lsales    lmktval  comtensq  ceotensq   profmarg\n",
       "0    1161   49        1     1       9       2  6200.0      966  23200.0  7.057037  8.732305  10.051908        81         4  15.580646\n",
       "1     600   43        1     1      10      10   283.0       48   1100.0  6.396930  5.645447   7.003066       100       100  16.961130\n",
       "2     379   51        1     1       9       3   169.0       40   1100.0  5.937536  5.129899   7.003066        81         9  23.668638\n",
       "3     651   55        1     0      22      22  1100.0      -54   1000.0  6.478509  7.003066   6.907755       484       484  -4.909091\n",
       "4     497   44        1     1       8       6   351.0       28    387.0  6.208590  5.860786   5.958425        64        36   7.977208"
      ]
     },
     "execution_count": 7,
     "metadata": {},
     "output_type": "execute_result"
    }
   ],
   "source": [
    "df_ceo = wr.data('ceosal2')\n",
    "df_ceo.head()"
   ]
  },
  {
   "cell_type": "code",
   "execution_count": 8,
   "id": "0cc8e095-ad76-4ba6-869a-67d3c213a6a5",
   "metadata": {
    "tags": []
   },
   "outputs": [
    {
     "name": "stdout",
     "output_type": "stream",
     "text": [
      "name of dataset: ceosal2\n",
      "no of variables: 15\n",
      "no of observations: 177\n",
      "\n",
      "+----------+--------------------------------+\n",
      "| variable | label                          |\n",
      "+----------+--------------------------------+\n",
      "| salary   | 1990 compensation, $1000s      |\n",
      "| age      | in years                       |\n",
      "| college  | =1 if attended college         |\n",
      "| grad     | =1 if attended graduate school |\n",
      "| comten   | years with company             |\n",
      "| ceoten   | years as ceo with company      |\n",
      "| sales    | 1990 firm sales, millions      |\n",
      "| profits  | 1990 profits, millions         |\n",
      "| mktval   | market value, end 1990, mills. |\n",
      "| lsalary  | log(salary)                    |\n",
      "| lsales   | log(sales)                     |\n",
      "| lmktval  | log(mktval)                    |\n",
      "| comtensq | comten^2                       |\n",
      "| ceotensq | ceoten^2                       |\n",
      "| profmarg | profits as % of sales          |\n",
      "+----------+--------------------------------+\n",
      "\n",
      "See CEOSAL1.RAW\n"
     ]
    }
   ],
   "source": [
    "#dataset desc\n",
    "wr.data('ceosal2', description=True)"
   ]
  },
  {
   "cell_type": "code",
   "execution_count": 9,
   "id": "f3fad26a-af1c-41cf-a426-e9caf6e28f58",
   "metadata": {
    "tags": []
   },
   "outputs": [
    {
     "data": {
      "text/plain": [
       "865.8644067796611"
      ]
     },
     "metadata": {},
     "output_type": "display_data"
    },
    {
     "data": {
      "text/plain": [
       "7.954802259887006"
      ]
     },
     "metadata": {},
     "output_type": "display_data"
    }
   ],
   "source": [
    "## C2 i\n",
    "\n",
    "display(df_ceo['salary'].mean())\n",
    "display(df_ceo['ceoten'].mean())"
   ]
  },
  {
   "cell_type": "code",
   "execution_count": 10,
   "id": "d9d93a2d-787f-45be-8908-a7864b24190b",
   "metadata": {
    "tags": []
   },
   "outputs": [
    {
     "data": {
      "text/plain": [
       "5"
      ]
     },
     "metadata": {},
     "output_type": "display_data"
    },
    {
     "data": {
      "text/plain": [
       "37"
      ]
     },
     "metadata": {},
     "output_type": "display_data"
    }
   ],
   "source": [
    "## C2 ii\n",
    "\n",
    "display(df_ceo[df_ceo['ceoten'] == 0].shape[0]) #N CEO's in the first year\n",
    "display(df_ceo['ceoten'].max()) #max year as CEO"
   ]
  },
  {
   "cell_type": "code",
   "execution_count": 11,
   "id": "f163d0dc-e88c-4eb1-b922-5a1c4353404a",
   "metadata": {
    "tags": []
   },
   "outputs": [
    {
     "data": {
      "text/html": [
       "<table class=\"simpletable\">\n",
       "<caption>OLS Regression Results</caption>\n",
       "<tr>\n",
       "  <th>Dep. Variable:</th>         <td>lsalary</td>     <th>  R-squared:         </th> <td>   0.013</td>\n",
       "</tr>\n",
       "<tr>\n",
       "  <th>Model:</th>                   <td>OLS</td>       <th>  Adj. R-squared:    </th> <td>   0.008</td>\n",
       "</tr>\n",
       "<tr>\n",
       "  <th>Method:</th>             <td>Least Squares</td>  <th>  F-statistic:       </th> <td>   2.334</td>\n",
       "</tr>\n",
       "<tr>\n",
       "  <th>Date:</th>             <td>Thu, 01 Jun 2023</td> <th>  Prob (F-statistic):</th>  <td> 0.128</td> \n",
       "</tr>\n",
       "<tr>\n",
       "  <th>Time:</th>                 <td>11:08:14</td>     <th>  Log-Likelihood:    </th> <td> -160.84</td>\n",
       "</tr>\n",
       "<tr>\n",
       "  <th>No. Observations:</th>      <td>   177</td>      <th>  AIC:               </th> <td>   325.7</td>\n",
       "</tr>\n",
       "<tr>\n",
       "  <th>Df Residuals:</th>          <td>   175</td>      <th>  BIC:               </th> <td>   332.0</td>\n",
       "</tr>\n",
       "<tr>\n",
       "  <th>Df Model:</th>              <td>     1</td>      <th>                     </th>     <td> </td>   \n",
       "</tr>\n",
       "<tr>\n",
       "  <th>Covariance Type:</th>      <td>nonrobust</td>    <th>                     </th>     <td> </td>   \n",
       "</tr>\n",
       "</table>\n",
       "<table class=\"simpletable\">\n",
       "<tr>\n",
       "      <td></td>         <th>coef</th>     <th>std err</th>      <th>t</th>      <th>P>|t|</th>  <th>[0.025</th>    <th>0.975]</th>  \n",
       "</tr>\n",
       "<tr>\n",
       "  <th>Intercept</th> <td>    6.5055</td> <td>    0.068</td> <td>   95.682</td> <td> 0.000</td> <td>    6.371</td> <td>    6.640</td>\n",
       "</tr>\n",
       "<tr>\n",
       "  <th>ceoten</th>    <td>    0.0097</td> <td>    0.006</td> <td>    1.528</td> <td> 0.128</td> <td>   -0.003</td> <td>    0.022</td>\n",
       "</tr>\n",
       "</table>\n",
       "<table class=\"simpletable\">\n",
       "<tr>\n",
       "  <th>Omnibus:</th>       <td> 3.858</td> <th>  Durbin-Watson:     </th> <td>   2.084</td>\n",
       "</tr>\n",
       "<tr>\n",
       "  <th>Prob(Omnibus):</th> <td> 0.145</td> <th>  Jarque-Bera (JB):  </th> <td>   3.907</td>\n",
       "</tr>\n",
       "<tr>\n",
       "  <th>Skew:</th>          <td>-0.189</td> <th>  Prob(JB):          </th> <td>   0.142</td>\n",
       "</tr>\n",
       "<tr>\n",
       "  <th>Kurtosis:</th>      <td> 3.622</td> <th>  Cond. No.          </th> <td>    16.1</td>\n",
       "</tr>\n",
       "</table><br/><br/>Notes:<br/>[1] Standard Errors assume that the covariance matrix of the errors is correctly specified."
      ],
      "text/plain": [
       "<class 'statsmodels.iolib.summary.Summary'>\n",
       "\"\"\"\n",
       "                            OLS Regression Results                            \n",
       "==============================================================================\n",
       "Dep. Variable:                lsalary   R-squared:                       0.013\n",
       "Model:                            OLS   Adj. R-squared:                  0.008\n",
       "Method:                 Least Squares   F-statistic:                     2.334\n",
       "Date:                Thu, 01 Jun 2023   Prob (F-statistic):              0.128\n",
       "Time:                        11:08:14   Log-Likelihood:                -160.84\n",
       "No. Observations:                 177   AIC:                             325.7\n",
       "Df Residuals:                     175   BIC:                             332.0\n",
       "Df Model:                           1                                         \n",
       "Covariance Type:            nonrobust                                         \n",
       "==============================================================================\n",
       "                 coef    std err          t      P>|t|      [0.025      0.975]\n",
       "------------------------------------------------------------------------------\n",
       "Intercept      6.5055      0.068     95.682      0.000       6.371       6.640\n",
       "ceoten         0.0097      0.006      1.528      0.128      -0.003       0.022\n",
       "==============================================================================\n",
       "Omnibus:                        3.858   Durbin-Watson:                   2.084\n",
       "Prob(Omnibus):                  0.145   Jarque-Bera (JB):                3.907\n",
       "Skew:                          -0.189   Prob(JB):                        0.142\n",
       "Kurtosis:                       3.622   Cond. No.                         16.1\n",
       "==============================================================================\n",
       "\n",
       "Notes:\n",
       "[1] Standard Errors assume that the covariance matrix of the errors is correctly specified.\n",
       "\"\"\""
      ]
     },
     "execution_count": 11,
     "metadata": {},
     "output_type": "execute_result"
    }
   ],
   "source": [
    "## C2 iii\n",
    "\n",
    "model = smf.ols('lsalary ~ ceoten',\n",
    "                data = df_ceo).fit()\n",
    "model.summary()"
   ]
  },
  {
   "cell_type": "markdown",
   "id": "de4f690a-c88b-4534-aebf-9bb6b6e67bfe",
   "metadata": {},
   "source": [
    "One additional year as CEO increase around 1% (ceoten coef) in salary."
   ]
  },
  {
   "cell_type": "markdown",
   "id": "1b8ee5ed-30d2-4c64-a800-ef1b4be20bb4",
   "metadata": {},
   "source": [
    "## C3"
   ]
  },
  {
   "cell_type": "code",
   "execution_count": 12,
   "id": "291210b8-962d-4f7b-9de5-7f7c33fa5bf2",
   "metadata": {
    "tags": []
   },
   "outputs": [
    {
     "data": {
      "text/html": [
       "<div>\n",
       "<style scoped>\n",
       "    .dataframe tbody tr th:only-of-type {\n",
       "        vertical-align: middle;\n",
       "    }\n",
       "\n",
       "    .dataframe tbody tr th {\n",
       "        vertical-align: top;\n",
       "    }\n",
       "\n",
       "    .dataframe thead th {\n",
       "        text-align: right;\n",
       "    }\n",
       "</style>\n",
       "<table border=\"1\" class=\"dataframe\">\n",
       "  <thead>\n",
       "    <tr style=\"text-align: right;\">\n",
       "      <th></th>\n",
       "      <th>age</th>\n",
       "      <th>black</th>\n",
       "      <th>case</th>\n",
       "      <th>clerical</th>\n",
       "      <th>construc</th>\n",
       "      <th>educ</th>\n",
       "      <th>earns74</th>\n",
       "      <th>gdhlth</th>\n",
       "      <th>inlf</th>\n",
       "      <th>leis1</th>\n",
       "      <th>leis2</th>\n",
       "      <th>leis3</th>\n",
       "      <th>smsa</th>\n",
       "      <th>lhrwage</th>\n",
       "      <th>lothinc</th>\n",
       "      <th>male</th>\n",
       "      <th>marr</th>\n",
       "      <th>prot</th>\n",
       "      <th>rlxall</th>\n",
       "      <th>selfe</th>\n",
       "      <th>sleep</th>\n",
       "      <th>slpnaps</th>\n",
       "      <th>south</th>\n",
       "      <th>spsepay</th>\n",
       "      <th>spwrk75</th>\n",
       "      <th>totwrk</th>\n",
       "      <th>union</th>\n",
       "      <th>worknrm</th>\n",
       "      <th>workscnd</th>\n",
       "      <th>exper</th>\n",
       "      <th>yngkid</th>\n",
       "      <th>yrsmarr</th>\n",
       "      <th>hrwage</th>\n",
       "      <th>agesq</th>\n",
       "    </tr>\n",
       "  </thead>\n",
       "  <tbody>\n",
       "    <tr>\n",
       "      <th>0</th>\n",
       "      <td>32</td>\n",
       "      <td>0</td>\n",
       "      <td>1</td>\n",
       "      <td>0.0</td>\n",
       "      <td>0.0</td>\n",
       "      <td>12</td>\n",
       "      <td>0.0</td>\n",
       "      <td>0</td>\n",
       "      <td>1</td>\n",
       "      <td>3529</td>\n",
       "      <td>3479</td>\n",
       "      <td>3479</td>\n",
       "      <td>0</td>\n",
       "      <td>1.955861</td>\n",
       "      <td>10.075380</td>\n",
       "      <td>1</td>\n",
       "      <td>1</td>\n",
       "      <td>1</td>\n",
       "      <td>3163</td>\n",
       "      <td>0</td>\n",
       "      <td>3113</td>\n",
       "      <td>3163</td>\n",
       "      <td>0</td>\n",
       "      <td>0.0</td>\n",
       "      <td>0</td>\n",
       "      <td>3438</td>\n",
       "      <td>0</td>\n",
       "      <td>3438</td>\n",
       "      <td>0</td>\n",
       "      <td>14</td>\n",
       "      <td>0</td>\n",
       "      <td>13</td>\n",
       "      <td>7.070004</td>\n",
       "      <td>1024</td>\n",
       "    </tr>\n",
       "    <tr>\n",
       "      <th>1</th>\n",
       "      <td>31</td>\n",
       "      <td>0</td>\n",
       "      <td>2</td>\n",
       "      <td>0.0</td>\n",
       "      <td>0.0</td>\n",
       "      <td>14</td>\n",
       "      <td>9500.0</td>\n",
       "      <td>1</td>\n",
       "      <td>1</td>\n",
       "      <td>2140</td>\n",
       "      <td>2140</td>\n",
       "      <td>2140</td>\n",
       "      <td>0</td>\n",
       "      <td>0.357674</td>\n",
       "      <td>0.000000</td>\n",
       "      <td>1</td>\n",
       "      <td>0</td>\n",
       "      <td>1</td>\n",
       "      <td>2920</td>\n",
       "      <td>1</td>\n",
       "      <td>2920</td>\n",
       "      <td>2920</td>\n",
       "      <td>1</td>\n",
       "      <td>0.0</td>\n",
       "      <td>0</td>\n",
       "      <td>5020</td>\n",
       "      <td>0</td>\n",
       "      <td>5020</td>\n",
       "      <td>0</td>\n",
       "      <td>11</td>\n",
       "      <td>0</td>\n",
       "      <td>0</td>\n",
       "      <td>1.429999</td>\n",
       "      <td>961</td>\n",
       "    </tr>\n",
       "    <tr>\n",
       "      <th>2</th>\n",
       "      <td>44</td>\n",
       "      <td>0</td>\n",
       "      <td>3</td>\n",
       "      <td>0.0</td>\n",
       "      <td>0.0</td>\n",
       "      <td>17</td>\n",
       "      <td>42500.0</td>\n",
       "      <td>1</td>\n",
       "      <td>1</td>\n",
       "      <td>4595</td>\n",
       "      <td>4505</td>\n",
       "      <td>4227</td>\n",
       "      <td>1</td>\n",
       "      <td>3.021887</td>\n",
       "      <td>0.000000</td>\n",
       "      <td>1</td>\n",
       "      <td>1</td>\n",
       "      <td>0</td>\n",
       "      <td>3038</td>\n",
       "      <td>1</td>\n",
       "      <td>2670</td>\n",
       "      <td>2760</td>\n",
       "      <td>0</td>\n",
       "      <td>20000.0</td>\n",
       "      <td>1</td>\n",
       "      <td>2815</td>\n",
       "      <td>0</td>\n",
       "      <td>2815</td>\n",
       "      <td>0</td>\n",
       "      <td>21</td>\n",
       "      <td>0</td>\n",
       "      <td>0</td>\n",
       "      <td>20.529997</td>\n",
       "      <td>1936</td>\n",
       "    </tr>\n",
       "    <tr>\n",
       "      <th>3</th>\n",
       "      <td>30</td>\n",
       "      <td>0</td>\n",
       "      <td>4</td>\n",
       "      <td>0.0</td>\n",
       "      <td>0.0</td>\n",
       "      <td>12</td>\n",
       "      <td>42500.0</td>\n",
       "      <td>1</td>\n",
       "      <td>1</td>\n",
       "      <td>3211</td>\n",
       "      <td>3211</td>\n",
       "      <td>3211</td>\n",
       "      <td>0</td>\n",
       "      <td>2.263844</td>\n",
       "      <td>0.000000</td>\n",
       "      <td>0</td>\n",
       "      <td>1</td>\n",
       "      <td>1</td>\n",
       "      <td>3083</td>\n",
       "      <td>1</td>\n",
       "      <td>3083</td>\n",
       "      <td>3083</td>\n",
       "      <td>0</td>\n",
       "      <td>5000.0</td>\n",
       "      <td>1</td>\n",
       "      <td>3786</td>\n",
       "      <td>0</td>\n",
       "      <td>3786</td>\n",
       "      <td>0</td>\n",
       "      <td>12</td>\n",
       "      <td>0</td>\n",
       "      <td>12</td>\n",
       "      <td>9.619998</td>\n",
       "      <td>900</td>\n",
       "    </tr>\n",
       "    <tr>\n",
       "      <th>4</th>\n",
       "      <td>64</td>\n",
       "      <td>0</td>\n",
       "      <td>5</td>\n",
       "      <td>0.0</td>\n",
       "      <td>0.0</td>\n",
       "      <td>14</td>\n",
       "      <td>2500.0</td>\n",
       "      <td>1</td>\n",
       "      <td>1</td>\n",
       "      <td>4052</td>\n",
       "      <td>4007</td>\n",
       "      <td>4007</td>\n",
       "      <td>0</td>\n",
       "      <td>1.011601</td>\n",
       "      <td>9.328213</td>\n",
       "      <td>1</td>\n",
       "      <td>1</td>\n",
       "      <td>1</td>\n",
       "      <td>3493</td>\n",
       "      <td>0</td>\n",
       "      <td>3448</td>\n",
       "      <td>3493</td>\n",
       "      <td>0</td>\n",
       "      <td>2400.0</td>\n",
       "      <td>1</td>\n",
       "      <td>2580</td>\n",
       "      <td>0</td>\n",
       "      <td>2580</td>\n",
       "      <td>0</td>\n",
       "      <td>44</td>\n",
       "      <td>0</td>\n",
       "      <td>33</td>\n",
       "      <td>2.750000</td>\n",
       "      <td>4096</td>\n",
       "    </tr>\n",
       "  </tbody>\n",
       "</table>\n",
       "</div>"
      ],
      "text/plain": [
       "   age  black  case  clerical  construc  educ  earns74  gdhlth  inlf  leis1  leis2  leis3  smsa   lhrwage    lothinc  male  marr  prot  rlxall  selfe  sleep  slpnaps  south  spsepay  spwrk75  totwrk  union  worknrm  workscnd  exper  yngkid  yrsmarr     hrwage  agesq\n",
       "0   32      0     1       0.0       0.0    12      0.0       0     1   3529   3479   3479     0  1.955861  10.075380     1     1     1    3163      0   3113     3163      0      0.0        0    3438      0     3438         0     14       0       13   7.070004   1024\n",
       "1   31      0     2       0.0       0.0    14   9500.0       1     1   2140   2140   2140     0  0.357674   0.000000     1     0     1    2920      1   2920     2920      1      0.0        0    5020      0     5020         0     11       0        0   1.429999    961\n",
       "2   44      0     3       0.0       0.0    17  42500.0       1     1   4595   4505   4227     1  3.021887   0.000000     1     1     0    3038      1   2670     2760      0  20000.0        1    2815      0     2815         0     21       0        0  20.529997   1936\n",
       "3   30      0     4       0.0       0.0    12  42500.0       1     1   3211   3211   3211     0  2.263844   0.000000     0     1     1    3083      1   3083     3083      0   5000.0        1    3786      0     3786         0     12       0       12   9.619998    900\n",
       "4   64      0     5       0.0       0.0    14   2500.0       1     1   4052   4007   4007     0  1.011601   9.328213     1     1     1    3493      0   3448     3493      0   2400.0        1    2580      0     2580         0     44       0       33   2.750000   4096"
      ]
     },
     "execution_count": 12,
     "metadata": {},
     "output_type": "execute_result"
    }
   ],
   "source": [
    "df_sleep= wr.data('sleep75')\n",
    "df_sleep.head()"
   ]
  },
  {
   "cell_type": "code",
   "execution_count": 13,
   "id": "71323598-a991-4c97-8b43-02af5d3dbcf0",
   "metadata": {
    "tags": []
   },
   "outputs": [
    {
     "name": "stdout",
     "output_type": "stream",
     "text": [
      "name of dataset: sleep75\n",
      "no of variables: 34\n",
      "no of observations: 706\n",
      "\n",
      "+----------+--------------------------------+\n",
      "| variable | label                          |\n",
      "+----------+--------------------------------+\n",
      "| age      | in years                       |\n",
      "| black    | =1 if black                    |\n",
      "| case     | identifier                     |\n",
      "| clerical | =1 if clerical worker          |\n",
      "| construc | =1 if construction worker      |\n",
      "| educ     | years of schooling             |\n",
      "| earns74  | total earnings, 1974           |\n",
      "| gdhlth   | =1 if in good or excel. health |\n",
      "| inlf     | =1 if in labor force           |\n",
      "| leis1    | sleep - totwrk                 |\n",
      "| leis2    | slpnaps - totwrk               |\n",
      "| leis3    | rlxall - totwrk                |\n",
      "| smsa     | =1 if live in smsa             |\n",
      "| lhrwage  | log hourly wage                |\n",
      "| lothinc  | log othinc, unless othinc < 0  |\n",
      "| male     | =1 if male                     |\n",
      "| marr     | =1 if married                  |\n",
      "| prot     | =1 if Protestant               |\n",
      "| rlxall   | slpnaps + personal activs      |\n",
      "| selfe    | =1 if self employed            |\n",
      "| sleep    | mins sleep at night, per wk    |\n",
      "| slpnaps  | minutes sleep, inc. naps       |\n",
      "| south    | =1 if live in south            |\n",
      "| spsepay  | spousal wage income            |\n",
      "| spwrk75  | =1 if spouse works             |\n",
      "| totwrk   | mins worked per week           |\n",
      "| union    | =1 if belong to union          |\n",
      "| worknrm  | mins work main job             |\n",
      "| workscnd | mins work second job           |\n",
      "| exper    | age - educ - 6                 |\n",
      "| yngkid   | =1 if children < 3 present     |\n",
      "| yrsmarr  | years married                  |\n",
      "| hrwage   | hourly wage                    |\n",
      "| agesq    | age^2                          |\n",
      "+----------+--------------------------------+\n",
      "\n",
      "J.E. Biddle and D.S. Hamermesh (1990), “Sleep and the Allocation of\n",
      "Time,” Journal of Political Economy 98, 922-943. Professor Biddle\n",
      "kindly provided the data.\n"
     ]
    }
   ],
   "source": [
    "#dataset desc\n",
    "wr.data('sleep75', description=True)"
   ]
  },
  {
   "cell_type": "code",
   "execution_count": 24,
   "id": "5f722c74-8df3-47fe-8e8c-de0efdc0eaf6",
   "metadata": {
    "tags": []
   },
   "outputs": [
    {
     "data": {
      "text/html": [
       "<table class=\"simpletable\">\n",
       "<caption>OLS Regression Results</caption>\n",
       "<tr>\n",
       "  <th>Dep. Variable:</th>          <td>sleep</td>      <th>  R-squared:         </th> <td>   0.103</td> \n",
       "</tr>\n",
       "<tr>\n",
       "  <th>Model:</th>                   <td>OLS</td>       <th>  Adj. R-squared:    </th> <td>   0.102</td> \n",
       "</tr>\n",
       "<tr>\n",
       "  <th>Method:</th>             <td>Least Squares</td>  <th>  F-statistic:       </th> <td>   81.09</td> \n",
       "</tr>\n",
       "<tr>\n",
       "  <th>Date:</th>             <td>Thu, 01 Jun 2023</td> <th>  Prob (F-statistic):</th> <td>1.99e-18</td> \n",
       "</tr>\n",
       "<tr>\n",
       "  <th>Time:</th>                 <td>11:42:06</td>     <th>  Log-Likelihood:    </th> <td> -5267.1</td> \n",
       "</tr>\n",
       "<tr>\n",
       "  <th>No. Observations:</th>      <td>   706</td>      <th>  AIC:               </th> <td>1.054e+04</td>\n",
       "</tr>\n",
       "<tr>\n",
       "  <th>Df Residuals:</th>          <td>   704</td>      <th>  BIC:               </th> <td>1.055e+04</td>\n",
       "</tr>\n",
       "<tr>\n",
       "  <th>Df Model:</th>              <td>     1</td>      <th>                     </th>     <td> </td>    \n",
       "</tr>\n",
       "<tr>\n",
       "  <th>Covariance Type:</th>      <td>nonrobust</td>    <th>                     </th>     <td> </td>    \n",
       "</tr>\n",
       "</table>\n",
       "<table class=\"simpletable\">\n",
       "<tr>\n",
       "      <td></td>         <th>coef</th>     <th>std err</th>      <th>t</th>      <th>P>|t|</th>  <th>[0.025</th>    <th>0.975]</th>  \n",
       "</tr>\n",
       "<tr>\n",
       "  <th>Intercept</th> <td> 3586.3770</td> <td>   38.912</td> <td>   92.165</td> <td> 0.000</td> <td> 3509.979</td> <td> 3662.775</td>\n",
       "</tr>\n",
       "<tr>\n",
       "  <th>totwrk</th>    <td>   -0.1507</td> <td>    0.017</td> <td>   -9.005</td> <td> 0.000</td> <td>   -0.184</td> <td>   -0.118</td>\n",
       "</tr>\n",
       "</table>\n",
       "<table class=\"simpletable\">\n",
       "<tr>\n",
       "  <th>Omnibus:</th>       <td>68.651</td> <th>  Durbin-Watson:     </th> <td>   1.955</td>\n",
       "</tr>\n",
       "<tr>\n",
       "  <th>Prob(Omnibus):</th> <td> 0.000</td> <th>  Jarque-Bera (JB):  </th> <td> 192.044</td>\n",
       "</tr>\n",
       "<tr>\n",
       "  <th>Skew:</th>          <td>-0.483</td> <th>  Prob(JB):          </th> <td>1.99e-42</td>\n",
       "</tr>\n",
       "<tr>\n",
       "  <th>Kurtosis:</th>      <td> 5.365</td> <th>  Cond. No.          </th> <td>5.71e+03</td>\n",
       "</tr>\n",
       "</table><br/><br/>Notes:<br/>[1] Standard Errors assume that the covariance matrix of the errors is correctly specified.<br/>[2] The condition number is large, 5.71e+03. This might indicate that there are<br/>strong multicollinearity or other numerical problems."
      ],
      "text/plain": [
       "<class 'statsmodels.iolib.summary.Summary'>\n",
       "\"\"\"\n",
       "                            OLS Regression Results                            \n",
       "==============================================================================\n",
       "Dep. Variable:                  sleep   R-squared:                       0.103\n",
       "Model:                            OLS   Adj. R-squared:                  0.102\n",
       "Method:                 Least Squares   F-statistic:                     81.09\n",
       "Date:                Thu, 01 Jun 2023   Prob (F-statistic):           1.99e-18\n",
       "Time:                        11:42:06   Log-Likelihood:                -5267.1\n",
       "No. Observations:                 706   AIC:                         1.054e+04\n",
       "Df Residuals:                     704   BIC:                         1.055e+04\n",
       "Df Model:                           1                                         \n",
       "Covariance Type:            nonrobust                                         \n",
       "==============================================================================\n",
       "                 coef    std err          t      P>|t|      [0.025      0.975]\n",
       "------------------------------------------------------------------------------\n",
       "Intercept   3586.3770     38.912     92.165      0.000    3509.979    3662.775\n",
       "totwrk        -0.1507      0.017     -9.005      0.000      -0.184      -0.118\n",
       "==============================================================================\n",
       "Omnibus:                       68.651   Durbin-Watson:                   1.955\n",
       "Prob(Omnibus):                  0.000   Jarque-Bera (JB):              192.044\n",
       "Skew:                          -0.483   Prob(JB):                     1.99e-42\n",
       "Kurtosis:                       5.365   Cond. No.                     5.71e+03\n",
       "==============================================================================\n",
       "\n",
       "Notes:\n",
       "[1] Standard Errors assume that the covariance matrix of the errors is correctly specified.\n",
       "[2] The condition number is large, 5.71e+03. This might indicate that there are\n",
       "strong multicollinearity or other numerical problems.\n",
       "\"\"\""
      ]
     },
     "execution_count": 24,
     "metadata": {},
     "output_type": "execute_result"
    }
   ],
   "source": [
    "##model\n",
    "\n",
    "model = smf.ols('sleep ~ totwrk',\n",
    "                data = df_sleep).fit()\n",
    "model.summary()"
   ]
  },
  {
   "cell_type": "code",
   "execution_count": 26,
   "id": "ef2f0061-f24b-4ce5-9ca0-c9aebae09249",
   "metadata": {
    "tags": []
   },
   "outputs": [
    {
     "name": "stdout",
     "output_type": "stream",
     "text": [
      "n =  706\n",
      "r2 =  0.103\n",
      "intercept =  3586.376951508095\n",
      "totwrk coef =  -0.150745824118994\n"
     ]
    }
   ],
   "source": [
    "## c3 i\n",
    "n = 706\n",
    "r2 = .103\n",
    "beta0 = model.params[0]\n",
    "beta1 = model.params[1]\n",
    "\n",
    "print('n = ', n)\n",
    "print('r2 = ', r2)\n",
    "print('intercept = ', beta0)\n",
    "print('totwrk coef = ', beta1)"
   ]
  },
  {
   "cell_type": "markdown",
   "id": "a49acc10-3bf9-4da4-9b02-956bbf9d1418",
   "metadata": {},
   "source": [
    "the equation is: sleep = 3586.37 -0.15*totwrk\n",
    "\n",
    "The intercept value means the amount (~ 3586 minutes per week in this case) of sleep if do not work."
   ]
  },
  {
   "cell_type": "code",
   "execution_count": 32,
   "id": "df2781e3-807a-422f-9c63-fbf6646cc071",
   "metadata": {
    "tags": []
   },
   "outputs": [
    {
     "data": {
      "text/plain": [
       "-18.08949889427928"
      ]
     },
     "execution_count": 32,
     "metadata": {},
     "output_type": "execute_result"
    }
   ],
   "source": [
    "## c3 ii\n",
    "\n",
    "totwrk = 60*2*beta1\n",
    "totwrk"
   ]
  },
  {
   "cell_type": "markdown",
   "id": "0dfc2b2f-8ffa-401c-8430-982332ca805a",
   "metadata": {},
   "source": [
    "increasing work by 2 hours, the sleep reduce by 18 minutes. Is not to large effect"
   ]
  }
 ],
 "metadata": {
  "kernelspec": {
   "display_name": "Python 3 (ipykernel)",
   "language": "python",
   "name": "python3"
  },
  "language_info": {
   "codemirror_mode": {
    "name": "ipython",
    "version": 3
   },
   "file_extension": ".py",
   "mimetype": "text/x-python",
   "name": "python",
   "nbconvert_exporter": "python",
   "pygments_lexer": "ipython3",
   "version": "3.8.16"
  }
 },
 "nbformat": 4,
 "nbformat_minor": 5
}
