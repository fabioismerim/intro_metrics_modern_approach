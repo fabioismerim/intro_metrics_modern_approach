{
 "cells": [
  {
   "cell_type": "markdown",
   "id": "f88dc9e8-4040-48ae-85e2-0c2ae87cd2f7",
   "metadata": {},
   "source": [
    "# Chapter 1"
   ]
  },
  {
   "cell_type": "code",
   "execution_count": 1,
   "id": "9be5e0f6-eb6b-4ab1-9e1b-e22cf44769cc",
   "metadata": {
    "tags": []
   },
   "outputs": [],
   "source": [
    "import wooldridge as wr\n",
    "import pandas as pd\n",
    "import numpy as np\n",
    "\n",
    "pd.set_option('display.max_columns', 500)\n",
    "pd.set_option('display.width', 1000)"
   ]
  },
  {
   "cell_type": "markdown",
   "id": "0a513030-48e2-4237-bd48-019ebdd779c7",
   "metadata": {},
   "source": [
    "### C1"
   ]
  },
  {
   "cell_type": "code",
   "execution_count": 2,
   "id": "cccfab00-0de1-4223-95bb-a41caba6cabf",
   "metadata": {
    "tags": []
   },
   "outputs": [],
   "source": [
    "df_wage = wr.data('wage1')"
   ]
  },
  {
   "cell_type": "code",
   "execution_count": 3,
   "id": "8174dd30-5fbe-4484-a463-ec7b2d728700",
   "metadata": {
    "tags": []
   },
   "outputs": [
    {
     "data": {
      "text/html": [
       "<div>\n",
       "<style scoped>\n",
       "    .dataframe tbody tr th:only-of-type {\n",
       "        vertical-align: middle;\n",
       "    }\n",
       "\n",
       "    .dataframe tbody tr th {\n",
       "        vertical-align: top;\n",
       "    }\n",
       "\n",
       "    .dataframe thead th {\n",
       "        text-align: right;\n",
       "    }\n",
       "</style>\n",
       "<table border=\"1\" class=\"dataframe\">\n",
       "  <thead>\n",
       "    <tr style=\"text-align: right;\">\n",
       "      <th></th>\n",
       "      <th>wage</th>\n",
       "      <th>educ</th>\n",
       "      <th>exper</th>\n",
       "      <th>tenure</th>\n",
       "      <th>nonwhite</th>\n",
       "      <th>female</th>\n",
       "      <th>married</th>\n",
       "      <th>numdep</th>\n",
       "      <th>smsa</th>\n",
       "      <th>northcen</th>\n",
       "      <th>south</th>\n",
       "      <th>west</th>\n",
       "      <th>construc</th>\n",
       "      <th>ndurman</th>\n",
       "      <th>trcommpu</th>\n",
       "      <th>trade</th>\n",
       "      <th>services</th>\n",
       "      <th>profserv</th>\n",
       "      <th>profocc</th>\n",
       "      <th>clerocc</th>\n",
       "      <th>servocc</th>\n",
       "      <th>lwage</th>\n",
       "      <th>expersq</th>\n",
       "      <th>tenursq</th>\n",
       "    </tr>\n",
       "  </thead>\n",
       "  <tbody>\n",
       "    <tr>\n",
       "      <th>0</th>\n",
       "      <td>3.10</td>\n",
       "      <td>11</td>\n",
       "      <td>2</td>\n",
       "      <td>0</td>\n",
       "      <td>0</td>\n",
       "      <td>1</td>\n",
       "      <td>0</td>\n",
       "      <td>2</td>\n",
       "      <td>1</td>\n",
       "      <td>0</td>\n",
       "      <td>0</td>\n",
       "      <td>1</td>\n",
       "      <td>0</td>\n",
       "      <td>0</td>\n",
       "      <td>0</td>\n",
       "      <td>0</td>\n",
       "      <td>0</td>\n",
       "      <td>0</td>\n",
       "      <td>0</td>\n",
       "      <td>0</td>\n",
       "      <td>0</td>\n",
       "      <td>1.131402</td>\n",
       "      <td>4</td>\n",
       "      <td>0</td>\n",
       "    </tr>\n",
       "    <tr>\n",
       "      <th>1</th>\n",
       "      <td>3.24</td>\n",
       "      <td>12</td>\n",
       "      <td>22</td>\n",
       "      <td>2</td>\n",
       "      <td>0</td>\n",
       "      <td>1</td>\n",
       "      <td>1</td>\n",
       "      <td>3</td>\n",
       "      <td>1</td>\n",
       "      <td>0</td>\n",
       "      <td>0</td>\n",
       "      <td>1</td>\n",
       "      <td>0</td>\n",
       "      <td>0</td>\n",
       "      <td>0</td>\n",
       "      <td>0</td>\n",
       "      <td>1</td>\n",
       "      <td>0</td>\n",
       "      <td>0</td>\n",
       "      <td>0</td>\n",
       "      <td>1</td>\n",
       "      <td>1.175573</td>\n",
       "      <td>484</td>\n",
       "      <td>4</td>\n",
       "    </tr>\n",
       "    <tr>\n",
       "      <th>2</th>\n",
       "      <td>3.00</td>\n",
       "      <td>11</td>\n",
       "      <td>2</td>\n",
       "      <td>0</td>\n",
       "      <td>0</td>\n",
       "      <td>0</td>\n",
       "      <td>0</td>\n",
       "      <td>2</td>\n",
       "      <td>0</td>\n",
       "      <td>0</td>\n",
       "      <td>0</td>\n",
       "      <td>1</td>\n",
       "      <td>0</td>\n",
       "      <td>0</td>\n",
       "      <td>0</td>\n",
       "      <td>1</td>\n",
       "      <td>0</td>\n",
       "      <td>0</td>\n",
       "      <td>0</td>\n",
       "      <td>0</td>\n",
       "      <td>0</td>\n",
       "      <td>1.098612</td>\n",
       "      <td>4</td>\n",
       "      <td>0</td>\n",
       "    </tr>\n",
       "    <tr>\n",
       "      <th>3</th>\n",
       "      <td>6.00</td>\n",
       "      <td>8</td>\n",
       "      <td>44</td>\n",
       "      <td>28</td>\n",
       "      <td>0</td>\n",
       "      <td>0</td>\n",
       "      <td>1</td>\n",
       "      <td>0</td>\n",
       "      <td>1</td>\n",
       "      <td>0</td>\n",
       "      <td>0</td>\n",
       "      <td>1</td>\n",
       "      <td>0</td>\n",
       "      <td>0</td>\n",
       "      <td>0</td>\n",
       "      <td>0</td>\n",
       "      <td>0</td>\n",
       "      <td>0</td>\n",
       "      <td>0</td>\n",
       "      <td>1</td>\n",
       "      <td>0</td>\n",
       "      <td>1.791759</td>\n",
       "      <td>1936</td>\n",
       "      <td>784</td>\n",
       "    </tr>\n",
       "    <tr>\n",
       "      <th>4</th>\n",
       "      <td>5.30</td>\n",
       "      <td>12</td>\n",
       "      <td>7</td>\n",
       "      <td>2</td>\n",
       "      <td>0</td>\n",
       "      <td>0</td>\n",
       "      <td>1</td>\n",
       "      <td>1</td>\n",
       "      <td>0</td>\n",
       "      <td>0</td>\n",
       "      <td>0</td>\n",
       "      <td>1</td>\n",
       "      <td>0</td>\n",
       "      <td>0</td>\n",
       "      <td>0</td>\n",
       "      <td>0</td>\n",
       "      <td>0</td>\n",
       "      <td>0</td>\n",
       "      <td>0</td>\n",
       "      <td>0</td>\n",
       "      <td>0</td>\n",
       "      <td>1.667707</td>\n",
       "      <td>49</td>\n",
       "      <td>4</td>\n",
       "    </tr>\n",
       "  </tbody>\n",
       "</table>\n",
       "</div>"
      ],
      "text/plain": [
       "   wage  educ  exper  tenure  nonwhite  female  married  numdep  smsa  northcen  south  west  construc  ndurman  trcommpu  trade  services  profserv  profocc  clerocc  servocc     lwage  expersq  tenursq\n",
       "0  3.10    11      2       0         0       1        0       2     1         0      0     1         0        0         0      0         0         0        0        0        0  1.131402        4        0\n",
       "1  3.24    12     22       2         0       1        1       3     1         0      0     1         0        0         0      0         1         0        0        0        1  1.175573      484        4\n",
       "2  3.00    11      2       0         0       0        0       2     0         0      0     1         0        0         0      1         0         0        0        0        0  1.098612        4        0\n",
       "3  6.00     8     44      28         0       0        1       0     1         0      0     1         0        0         0      0         0         0        0        1        0  1.791759     1936      784\n",
       "4  5.30    12      7       2         0       0        1       1     0         0      0     1         0        0         0      0         0         0        0        0        0  1.667707       49        4"
      ]
     },
     "execution_count": 3,
     "metadata": {},
     "output_type": "execute_result"
    }
   ],
   "source": [
    "df_wage.head()"
   ]
  },
  {
   "cell_type": "code",
   "execution_count": 4,
   "id": "598f5034-87c4-4a55-80d0-baa1b836e861",
   "metadata": {
    "tags": []
   },
   "outputs": [
    {
     "name": "stdout",
     "output_type": "stream",
     "text": [
      "name of dataset: wage1\n",
      "no of variables: 24\n",
      "no of observations: 526\n",
      "\n",
      "+----------+---------------------------------+\n",
      "| variable | label                           |\n",
      "+----------+---------------------------------+\n",
      "| wage     | average hourly earnings         |\n",
      "| educ     | years of education              |\n",
      "| exper    | years potential experience      |\n",
      "| tenure   | years with current employer     |\n",
      "| nonwhite | =1 if nonwhite                  |\n",
      "| female   | =1 if female                    |\n",
      "| married  | =1 if married                   |\n",
      "| numdep   | number of dependents            |\n",
      "| smsa     | =1 if live in SMSA              |\n",
      "| northcen | =1 if live in north central U.S |\n",
      "| south    | =1 if live in southern region   |\n",
      "| west     | =1 if live in western region    |\n",
      "| construc | =1 if work in construc. indus.  |\n",
      "| ndurman  | =1 if in nondur. manuf. indus.  |\n",
      "| trcommpu | =1 if in trans, commun, pub ut  |\n",
      "| trade    | =1 if in wholesale or retail    |\n",
      "| services | =1 if in services indus.        |\n",
      "| profserv | =1 if in prof. serv. indus.     |\n",
      "| profocc  | =1 if in profess. occupation    |\n",
      "| clerocc  | =1 if in clerical occupation    |\n",
      "| servocc  | =1 if in service occupation     |\n",
      "| lwage    | log(wage)                       |\n",
      "| expersq  | exper^2                         |\n",
      "| tenursq  | tenure^2                        |\n",
      "+----------+---------------------------------+\n",
      "\n",
      "These are data from the 1976 Current Population Survey, collected by\n",
      "Henry Farber when he and I were colleagues at MIT in 1988.\n"
     ]
    }
   ],
   "source": [
    "#dataset desc\n",
    "wr.data('wage1', description=True)"
   ]
  },
  {
   "cell_type": "code",
   "execution_count": 5,
   "id": "af248cd1-9434-47fc-ac11-53d7dc4e8d72",
   "metadata": {
    "tags": []
   },
   "outputs": [
    {
     "name": "stdout",
     "output_type": "stream",
     "text": [
      "Mean of years education: 12.56\n",
      "Min education level  0\n",
      "Max education level  18\n"
     ]
    }
   ],
   "source": [
    "#C1.i\n",
    "print('Mean of years education:', round(df_wage['educ'].mean(),2))\n",
    "print('Min education level ', df_wage['educ'].min())\n",
    "print('Max education level ', df_wage['educ'].max())"
   ]
  },
  {
   "cell_type": "code",
   "execution_count": 6,
   "id": "0a75952c-ce28-495a-ad7d-7700e8be99d4",
   "metadata": {
    "tags": []
   },
   "outputs": [
    {
     "name": "stdout",
     "output_type": "stream",
     "text": [
      "Average hourly-wage: $ 5.9\n"
     ]
    },
    {
     "data": {
      "text/plain": [
       "count    526.000000\n",
       "mean       5.896103\n",
       "std        3.693086\n",
       "min        0.530000\n",
       "25%        3.330000\n",
       "50%        4.650000\n",
       "75%        6.880000\n",
       "max       24.980000\n",
       "Name: wage, dtype: float64"
      ]
     },
     "metadata": {},
     "output_type": "display_data"
    }
   ],
   "source": [
    "#C1.ii\n",
    "\n",
    "print('Average hourly-wage: $', round(df_wage['wage'].mean(),2))\n",
    "\n",
    "display(df_wage['wage'].describe())"
   ]
  },
  {
   "cell_type": "markdown",
   "id": "8e4a819f-5c8d-432a-a81b-472314b02f23",
   "metadata": {},
   "source": [
    "#### C1.iii\n",
    "\n",
    "76's CPI was 56.9 dolls, and 233 dol in 2010."
   ]
  },
  {
   "cell_type": "code",
   "execution_count": 7,
   "id": "ee4103a4-798a-4105-b0fb-910504b6d1f5",
   "metadata": {
    "tags": []
   },
   "outputs": [
    {
     "data": {
      "text/plain": [
       "24.14397053120174"
      ]
     },
     "execution_count": 7,
     "metadata": {},
     "output_type": "execute_result"
    }
   ],
   "source": [
    "#C1.iv\n",
    "\n",
    "#dolar de 1976 no valor de 2013\n",
    "dol_ratio = 233/56.9\n",
    "\n",
    "##salario-hora de 2013 \n",
    "df_wage['wage'].mean()*dol_ratio"
   ]
  },
  {
   "cell_type": "code",
   "execution_count": 8,
   "id": "20246309-4b18-4e22-bc14-6ad91557b3d6",
   "metadata": {
    "tags": []
   },
   "outputs": [
    {
     "name": "stdout",
     "output_type": "stream",
     "text": [
      "Women sample:  252\n"
     ]
    }
   ],
   "source": [
    "#C1. V\n",
    "print('Women sample: ', df_wage[df_wage['female'] == 1].shape[0])"
   ]
  },
  {
   "cell_type": "markdown",
   "id": "34faa5ad-9012-4aee-b682-07ca400d197f",
   "metadata": {},
   "source": [
    "### C2"
   ]
  },
  {
   "cell_type": "code",
   "execution_count": 9,
   "id": "821081a1-21ed-4465-b0e4-11a51f594cad",
   "metadata": {
    "tags": []
   },
   "outputs": [
    {
     "data": {
      "text/html": [
       "<div>\n",
       "<style scoped>\n",
       "    .dataframe tbody tr th:only-of-type {\n",
       "        vertical-align: middle;\n",
       "    }\n",
       "\n",
       "    .dataframe tbody tr th {\n",
       "        vertical-align: top;\n",
       "    }\n",
       "\n",
       "    .dataframe thead th {\n",
       "        text-align: right;\n",
       "    }\n",
       "</style>\n",
       "<table border=\"1\" class=\"dataframe\">\n",
       "  <thead>\n",
       "    <tr style=\"text-align: right;\">\n",
       "      <th></th>\n",
       "      <th>faminc</th>\n",
       "      <th>cigtax</th>\n",
       "      <th>cigprice</th>\n",
       "      <th>bwght</th>\n",
       "      <th>fatheduc</th>\n",
       "      <th>motheduc</th>\n",
       "      <th>parity</th>\n",
       "      <th>male</th>\n",
       "      <th>white</th>\n",
       "      <th>cigs</th>\n",
       "      <th>lbwght</th>\n",
       "      <th>bwghtlbs</th>\n",
       "      <th>packs</th>\n",
       "      <th>lfaminc</th>\n",
       "    </tr>\n",
       "  </thead>\n",
       "  <tbody>\n",
       "    <tr>\n",
       "      <th>0</th>\n",
       "      <td>13.5</td>\n",
       "      <td>16.5</td>\n",
       "      <td>122.300003</td>\n",
       "      <td>109</td>\n",
       "      <td>12.0</td>\n",
       "      <td>12.0</td>\n",
       "      <td>1</td>\n",
       "      <td>1</td>\n",
       "      <td>1</td>\n",
       "      <td>0</td>\n",
       "      <td>4.691348</td>\n",
       "      <td>6.8125</td>\n",
       "      <td>0.0</td>\n",
       "      <td>2.602690</td>\n",
       "    </tr>\n",
       "    <tr>\n",
       "      <th>1</th>\n",
       "      <td>7.5</td>\n",
       "      <td>16.5</td>\n",
       "      <td>122.300003</td>\n",
       "      <td>133</td>\n",
       "      <td>6.0</td>\n",
       "      <td>12.0</td>\n",
       "      <td>2</td>\n",
       "      <td>1</td>\n",
       "      <td>0</td>\n",
       "      <td>0</td>\n",
       "      <td>4.890349</td>\n",
       "      <td>8.3125</td>\n",
       "      <td>0.0</td>\n",
       "      <td>2.014903</td>\n",
       "    </tr>\n",
       "    <tr>\n",
       "      <th>2</th>\n",
       "      <td>0.5</td>\n",
       "      <td>16.5</td>\n",
       "      <td>122.300003</td>\n",
       "      <td>129</td>\n",
       "      <td>NaN</td>\n",
       "      <td>12.0</td>\n",
       "      <td>2</td>\n",
       "      <td>0</td>\n",
       "      <td>0</td>\n",
       "      <td>0</td>\n",
       "      <td>4.859812</td>\n",
       "      <td>8.0625</td>\n",
       "      <td>0.0</td>\n",
       "      <td>-0.693147</td>\n",
       "    </tr>\n",
       "    <tr>\n",
       "      <th>3</th>\n",
       "      <td>15.5</td>\n",
       "      <td>16.5</td>\n",
       "      <td>122.300003</td>\n",
       "      <td>126</td>\n",
       "      <td>12.0</td>\n",
       "      <td>12.0</td>\n",
       "      <td>2</td>\n",
       "      <td>1</td>\n",
       "      <td>0</td>\n",
       "      <td>0</td>\n",
       "      <td>4.836282</td>\n",
       "      <td>7.8750</td>\n",
       "      <td>0.0</td>\n",
       "      <td>2.740840</td>\n",
       "    </tr>\n",
       "    <tr>\n",
       "      <th>4</th>\n",
       "      <td>27.5</td>\n",
       "      <td>16.5</td>\n",
       "      <td>122.300003</td>\n",
       "      <td>134</td>\n",
       "      <td>14.0</td>\n",
       "      <td>12.0</td>\n",
       "      <td>2</td>\n",
       "      <td>1</td>\n",
       "      <td>1</td>\n",
       "      <td>0</td>\n",
       "      <td>4.897840</td>\n",
       "      <td>8.3750</td>\n",
       "      <td>0.0</td>\n",
       "      <td>3.314186</td>\n",
       "    </tr>\n",
       "  </tbody>\n",
       "</table>\n",
       "</div>"
      ],
      "text/plain": [
       "   faminc  cigtax    cigprice  bwght  fatheduc  motheduc  parity  male  white  cigs    lbwght  bwghtlbs  packs   lfaminc\n",
       "0    13.5    16.5  122.300003    109      12.0      12.0       1     1      1     0  4.691348    6.8125    0.0  2.602690\n",
       "1     7.5    16.5  122.300003    133       6.0      12.0       2     1      0     0  4.890349    8.3125    0.0  2.014903\n",
       "2     0.5    16.5  122.300003    129       NaN      12.0       2     0      0     0  4.859812    8.0625    0.0 -0.693147\n",
       "3    15.5    16.5  122.300003    126      12.0      12.0       2     1      0     0  4.836282    7.8750    0.0  2.740840\n",
       "4    27.5    16.5  122.300003    134      14.0      12.0       2     1      1     0  4.897840    8.3750    0.0  3.314186"
      ]
     },
     "execution_count": 9,
     "metadata": {},
     "output_type": "execute_result"
    }
   ],
   "source": [
    "df_bw = wr.data('bwght')\n",
    "df_bw.head()"
   ]
  },
  {
   "cell_type": "code",
   "execution_count": 10,
   "id": "b39ea27c-ca15-41e1-8e68-9c38dd723948",
   "metadata": {
    "tags": []
   },
   "outputs": [
    {
     "name": "stdout",
     "output_type": "stream",
     "text": [
      "name of dataset: bwght\n",
      "no of variables: 14\n",
      "no of observations: 1388\n",
      "\n",
      "+----------+--------------------------------+\n",
      "| variable | label                          |\n",
      "+----------+--------------------------------+\n",
      "| faminc   | 1988 family income, $1000s     |\n",
      "| cigtax   | cig. tax in home state, 1988   |\n",
      "| cigprice | cig. price in home state, 1988 |\n",
      "| bwght    | birth weight, ounces           |\n",
      "| fatheduc | father's yrs of educ           |\n",
      "| motheduc | mother's yrs of educ           |\n",
      "| parity   | birth order of child           |\n",
      "| male     | =1 if male child               |\n",
      "| white    | =1 if white                    |\n",
      "| cigs     | cigs smked per day while preg  |\n",
      "| lbwght   | log of bwght                   |\n",
      "| bwghtlbs | birth weight, pounds           |\n",
      "| packs    | packs smked per day while preg |\n",
      "| lfaminc  | log(faminc)                    |\n",
      "+----------+--------------------------------+\n",
      "\n",
      "J. Mullahy (1997), “Instrumental-Variable Estimation of Count Data\n",
      "Models: Applications to Models of Cigarette Smoking Behavior,” Review\n",
      "of Economics and Statistics 79, 596-593. Professor Mullahy kindly\n",
      "provided the data. He obtained them from the 1988 National Health\n",
      "Interview Survey.\n"
     ]
    }
   ],
   "source": [
    "#dataset desc\n",
    "wr.data('bwght', description=True)"
   ]
  },
  {
   "cell_type": "code",
   "execution_count": 11,
   "id": "de41aa44-ca9a-42d2-9337-6d63f987b06f",
   "metadata": {
    "tags": []
   },
   "outputs": [
    {
     "name": "stdout",
     "output_type": "stream",
     "text": [
      "Women sample: 1388\n",
      "Women smokers while pregnant: 212 (~15.27%)\n"
     ]
    }
   ],
   "source": [
    "#C2.i\n",
    "\n",
    "print(\"Women sample:\", df_bw.shape[0])\n",
    "print(\"Women smokers while pregnant:\", df_bw[df_bw['packs'] > 0].shape[0] , \"(~\"+str(round(df_bw[df_bw['packs'] > 0].shape[0]/df_bw.shape[0] *100,2))+\"%)\")"
   ]
  },
  {
   "cell_type": "code",
   "execution_count": 12,
   "id": "11c6f284-574e-472a-84e4-d00cc75a7fd4",
   "metadata": {
    "tags": []
   },
   "outputs": [
    {
     "name": "stdout",
     "output_type": "stream",
     "text": [
      "Cigs mean per day:  2.09\n"
     ]
    }
   ],
   "source": [
    "#C2 ii\n",
    "print('Cigs mean per day: ', round(df_bw['cigs'].mean(),2))"
   ]
  },
  {
   "cell_type": "code",
   "execution_count": 13,
   "id": "ff50fe99-19b8-4972-a9e7-f8e1cc1e28fb",
   "metadata": {
    "tags": []
   },
   "outputs": [
    {
     "name": "stdout",
     "output_type": "stream",
     "text": [
      "cigs per day in smokers women sample: 13.67\n"
     ]
    }
   ],
   "source": [
    "#C2 iii\n",
    "\n",
    "smokers_w = df_bw[df_bw['packs'] > 0] #smokers women datset\n",
    "print('cigs per day in smokers women sample:', round(smokers_w['cigs'].mean(),2))"
   ]
  },
  {
   "cell_type": "code",
   "execution_count": 14,
   "id": "15c7cbe7-8678-49ee-911a-5bcb06a752a9",
   "metadata": {
    "tags": []
   },
   "outputs": [
    {
     "data": {
      "text/plain": [
       "13.186241610738255"
      ]
     },
     "execution_count": 14,
     "metadata": {},
     "output_type": "execute_result"
    }
   ],
   "source": [
    "#C2 iv\n",
    "\n",
    "df_bw['fatheduc'].mean()\n",
    "\n",
    "## we have some null values in this column"
   ]
  },
  {
   "cell_type": "code",
   "execution_count": 15,
   "id": "692f92bd-2d9c-4ba3-9cac-fd2ce971661a",
   "metadata": {
    "tags": []
   },
   "outputs": [
    {
     "data": {
      "text/plain": [
       "count    1388.000000\n",
       "mean       29.026657\n",
       "std        18.739285\n",
       "min         0.500000\n",
       "25%        14.500000\n",
       "50%        27.500000\n",
       "75%        37.500000\n",
       "max        65.000000\n",
       "Name: faminc, dtype: float64"
      ]
     },
     "execution_count": 15,
     "metadata": {},
     "output_type": "execute_result"
    }
   ],
   "source": [
    "#C2 v\n",
    "\n",
    "df_bw['faminc'].describe()"
   ]
  },
  {
   "cell_type": "markdown",
   "id": "fcec7cd7-2ecf-4fab-bbaa-98ee92b60044",
   "metadata": {},
   "source": [
    "### C3"
   ]
  },
  {
   "cell_type": "code",
   "execution_count": 16,
   "id": "c92497d1-7910-44f7-8bfc-1af726fba4c6",
   "metadata": {
    "tags": []
   },
   "outputs": [
    {
     "data": {
      "text/html": [
       "<div>\n",
       "<style scoped>\n",
       "    .dataframe tbody tr th:only-of-type {\n",
       "        vertical-align: middle;\n",
       "    }\n",
       "\n",
       "    .dataframe tbody tr th {\n",
       "        vertical-align: top;\n",
       "    }\n",
       "\n",
       "    .dataframe thead th {\n",
       "        text-align: right;\n",
       "    }\n",
       "</style>\n",
       "<table border=\"1\" class=\"dataframe\">\n",
       "  <thead>\n",
       "    <tr style=\"text-align: right;\">\n",
       "      <th></th>\n",
       "      <th>dcode</th>\n",
       "      <th>bcode</th>\n",
       "      <th>math4</th>\n",
       "      <th>read4</th>\n",
       "      <th>lunch</th>\n",
       "      <th>enroll</th>\n",
       "      <th>expend</th>\n",
       "      <th>exppp</th>\n",
       "      <th>lenroll</th>\n",
       "      <th>lexpend</th>\n",
       "      <th>lexppp</th>\n",
       "    </tr>\n",
       "  </thead>\n",
       "  <tbody>\n",
       "    <tr>\n",
       "      <th>0</th>\n",
       "      <td>1010.0</td>\n",
       "      <td>4937</td>\n",
       "      <td>83.300003</td>\n",
       "      <td>77.800003</td>\n",
       "      <td>40.599998</td>\n",
       "      <td>468</td>\n",
       "      <td>2747475.0</td>\n",
       "      <td>5870.672852</td>\n",
       "      <td>6.148468</td>\n",
       "      <td>14.826193</td>\n",
       "      <td>8.677725</td>\n",
       "    </tr>\n",
       "    <tr>\n",
       "      <th>1</th>\n",
       "      <td>2070.0</td>\n",
       "      <td>597</td>\n",
       "      <td>90.300003</td>\n",
       "      <td>82.300003</td>\n",
       "      <td>27.100000</td>\n",
       "      <td>679</td>\n",
       "      <td>1505772.0</td>\n",
       "      <td>2217.631836</td>\n",
       "      <td>6.520621</td>\n",
       "      <td>14.224816</td>\n",
       "      <td>7.704195</td>\n",
       "    </tr>\n",
       "    <tr>\n",
       "      <th>2</th>\n",
       "      <td>2080.0</td>\n",
       "      <td>4860</td>\n",
       "      <td>61.900002</td>\n",
       "      <td>71.400002</td>\n",
       "      <td>41.750000</td>\n",
       "      <td>400</td>\n",
       "      <td>2121871.0</td>\n",
       "      <td>5304.677734</td>\n",
       "      <td>5.991465</td>\n",
       "      <td>14.567809</td>\n",
       "      <td>8.576344</td>\n",
       "    </tr>\n",
       "    <tr>\n",
       "      <th>3</th>\n",
       "      <td>3010.0</td>\n",
       "      <td>790</td>\n",
       "      <td>85.699997</td>\n",
       "      <td>60.000000</td>\n",
       "      <td>12.750000</td>\n",
       "      <td>251</td>\n",
       "      <td>1211034.0</td>\n",
       "      <td>4824.836426</td>\n",
       "      <td>5.525453</td>\n",
       "      <td>14.006985</td>\n",
       "      <td>8.481532</td>\n",
       "    </tr>\n",
       "    <tr>\n",
       "      <th>4</th>\n",
       "      <td>3010.0</td>\n",
       "      <td>1403</td>\n",
       "      <td>77.300003</td>\n",
       "      <td>59.099998</td>\n",
       "      <td>17.080000</td>\n",
       "      <td>439</td>\n",
       "      <td>1913501.0</td>\n",
       "      <td>4358.771973</td>\n",
       "      <td>6.084499</td>\n",
       "      <td>14.464445</td>\n",
       "      <td>8.379946</td>\n",
       "    </tr>\n",
       "  </tbody>\n",
       "</table>\n",
       "</div>"
      ],
      "text/plain": [
       "    dcode  bcode      math4      read4      lunch  enroll     expend        exppp   lenroll    lexpend    lexppp\n",
       "0  1010.0   4937  83.300003  77.800003  40.599998     468  2747475.0  5870.672852  6.148468  14.826193  8.677725\n",
       "1  2070.0    597  90.300003  82.300003  27.100000     679  1505772.0  2217.631836  6.520621  14.224816  7.704195\n",
       "2  2080.0   4860  61.900002  71.400002  41.750000     400  2121871.0  5304.677734  5.991465  14.567809  8.576344\n",
       "3  3010.0    790  85.699997  60.000000  12.750000     251  1211034.0  4824.836426  5.525453  14.006985  8.481532\n",
       "4  3010.0   1403  77.300003  59.099998  17.080000     439  1913501.0  4358.771973  6.084499  14.464445  8.379946"
      ]
     },
     "execution_count": 16,
     "metadata": {},
     "output_type": "execute_result"
    }
   ],
   "source": [
    "df_m = wr.data('meap01')\n",
    "df_m.head()\n"
   ]
  },
  {
   "cell_type": "code",
   "execution_count": 17,
   "id": "66da1076-759f-4642-a412-01a33015b63f",
   "metadata": {
    "tags": []
   },
   "outputs": [
    {
     "name": "stdout",
     "output_type": "stream",
     "text": [
      "name of dataset: meap01\n",
      "no of variables: 11\n",
      "no of observations: 1823\n",
      "\n",
      "+----------+-----------------------------------------------+\n",
      "| variable | label                                         |\n",
      "+----------+-----------------------------------------------+\n",
      "| dcode    | district code                                 |\n",
      "| bcode    | building code                                 |\n",
      "| math4    | % students satisfactory, 4th grade math       |\n",
      "| read4    | % students satisfactory, 4th grade reading    |\n",
      "| lunch    | % students eligible for free or reduced lunch |\n",
      "| enroll   | school enrollment                             |\n",
      "| expend   | total spending, $                             |\n",
      "| exppp    | expenditures per pupil: expend/enroll         |\n",
      "| lenroll  | log(enroll)                                   |\n",
      "| lexpend  | log(expend)                                   |\n",
      "| lexppp   | log(exppp)                                    |\n",
      "+----------+-----------------------------------------------+\n",
      "\n",
      "Michigan Department of Education, www.michigan.gov/mde\n"
     ]
    }
   ],
   "source": [
    "#dataset desc\n",
    "wr.data('meap01', description=True)"
   ]
  },
  {
   "cell_type": "code",
   "execution_count": 18,
   "id": "c4b6eb65-4445-4575-94ba-4cae2d4d7aa7",
   "metadata": {
    "tags": []
   },
   "outputs": [
    {
     "name": "stdout",
     "output_type": "stream",
     "text": [
      "Max math4: 100.0\n",
      "Min math4: 0.0\n"
     ]
    }
   ],
   "source": [
    "#C3 i\n",
    "print('Max math4:', df_m['math4'].max())\n",
    "print('Min math4:', df_m['math4'].min())"
   ]
  },
  {
   "cell_type": "code",
   "execution_count": 19,
   "id": "871b61b2-0acd-418e-9e12-7531468d2363",
   "metadata": {
    "tags": []
   },
   "outputs": [
    {
     "name": "stdout",
     "output_type": "stream",
     "text": [
      "N of schools with max in math: 38 (~2.0%)\n"
     ]
    }
   ],
   "source": [
    "#C3 ii\n",
    "print('N of schools with max in math:', df_m[df_m['math4'] == 100].shape[0], \"(~\"+str(round(df_m[df_m['math4'] == 100].shape[0]/df_m.shape[0] *100,0))+\"%)\")"
   ]
  },
  {
   "cell_type": "code",
   "execution_count": 20,
   "id": "f1c261e2-3ece-4b60-b9cb-c6c0344acf3d",
   "metadata": {
    "tags": []
   },
   "outputs": [
    {
     "name": "stdout",
     "output_type": "stream",
     "text": [
      "N of schools with 50% in math: 17 (~1.0%)\n"
     ]
    }
   ],
   "source": [
    "#C3 iii\n",
    "\n",
    "print('N of schools with 50% in math:', df_m[df_m['math4'] == 50].shape[0], \"(~\"+str(round(df_m[df_m['math4'] == 50].shape[0]/df_m.shape[0] *100,0))+\"%)\")"
   ]
  },
  {
   "cell_type": "code",
   "execution_count": 21,
   "id": "69010129-de12-416d-aa02-741c2878bf76",
   "metadata": {
    "tags": []
   },
   "outputs": [
    {
     "name": "stdout",
     "output_type": "stream",
     "text": [
      "Mean math rate: 71.90899606805154\n",
      "Mean read rate: 60.06187602862904\n"
     ]
    }
   ],
   "source": [
    "#C3 iv\n",
    "print('Mean math rate:', df_m['math4'].mean())\n",
    "print('Mean read rate:', df_m['read4'].mean())"
   ]
  },
  {
   "cell_type": "code",
   "execution_count": 22,
   "id": "45db167d-cd13-4250-b680-0d330b381463",
   "metadata": {
    "tags": []
   },
   "outputs": [
    {
     "name": "stdout",
     "output_type": "stream",
     "text": [
      "0.8427281457721153\n"
     ]
    }
   ],
   "source": [
    "#C3 v\n",
    "\n",
    "print(df_m['math4'].corr(df_m['read4']))"
   ]
  },
  {
   "cell_type": "code",
   "execution_count": 23,
   "id": "ef408dc9-ad26-4026-afa7-eca7e5a75677",
   "metadata": {
    "tags": []
   },
   "outputs": [
    {
     "name": "stdout",
     "output_type": "stream",
     "text": [
      "5194.865478314741\n",
      "1091.8895972167838\n"
     ]
    }
   ],
   "source": [
    "#C3 vi\n",
    "\n",
    "print(df_m['exppp'].mean())\n",
    "print(df_m['exppp'].std())"
   ]
  },
  {
   "cell_type": "code",
   "execution_count": 24,
   "id": "2a4b7374-ed91-413a-b987-7b82ddac1439",
   "metadata": {},
   "outputs": [
    {
     "name": "stdout",
     "output_type": "stream",
     "text": [
      "9.090909090909083\n",
      "8.701137698962924\n"
     ]
    }
   ],
   "source": [
    "#C3 vii\n",
    "\n",
    "\n",
    "print((6000 / 5500 - 1) * 100)\n",
    "\n",
    "\n",
    "print(100 * (np.log(6000) - np.log(5500)))"
   ]
  },
  {
   "cell_type": "markdown",
   "id": "13dd1143-b176-46d5-b153-12052cae926e",
   "metadata": {},
   "source": [
    "### C4"
   ]
  },
  {
   "cell_type": "code",
   "execution_count": 25,
   "id": "c3004bbb-4a46-4807-adc8-368e1cca78b6",
   "metadata": {
    "tags": []
   },
   "outputs": [
    {
     "data": {
      "text/html": [
       "<div>\n",
       "<style scoped>\n",
       "    .dataframe tbody tr th:only-of-type {\n",
       "        vertical-align: middle;\n",
       "    }\n",
       "\n",
       "    .dataframe tbody tr th {\n",
       "        vertical-align: top;\n",
       "    }\n",
       "\n",
       "    .dataframe thead th {\n",
       "        text-align: right;\n",
       "    }\n",
       "</style>\n",
       "<table border=\"1\" class=\"dataframe\">\n",
       "  <thead>\n",
       "    <tr style=\"text-align: right;\">\n",
       "      <th></th>\n",
       "      <th>train</th>\n",
       "      <th>age</th>\n",
       "      <th>educ</th>\n",
       "      <th>black</th>\n",
       "      <th>hisp</th>\n",
       "      <th>married</th>\n",
       "      <th>nodegree</th>\n",
       "      <th>mosinex</th>\n",
       "      <th>re74</th>\n",
       "      <th>re75</th>\n",
       "      <th>re78</th>\n",
       "      <th>unem74</th>\n",
       "      <th>unem75</th>\n",
       "      <th>unem78</th>\n",
       "      <th>lre74</th>\n",
       "      <th>lre75</th>\n",
       "      <th>lre78</th>\n",
       "      <th>agesq</th>\n",
       "      <th>mostrn</th>\n",
       "    </tr>\n",
       "  </thead>\n",
       "  <tbody>\n",
       "    <tr>\n",
       "      <th>0</th>\n",
       "      <td>1</td>\n",
       "      <td>37</td>\n",
       "      <td>11</td>\n",
       "      <td>1</td>\n",
       "      <td>0</td>\n",
       "      <td>1</td>\n",
       "      <td>1</td>\n",
       "      <td>13</td>\n",
       "      <td>0.0</td>\n",
       "      <td>0.0</td>\n",
       "      <td>9.93005</td>\n",
       "      <td>1</td>\n",
       "      <td>1</td>\n",
       "      <td>0</td>\n",
       "      <td>0.0</td>\n",
       "      <td>0.0</td>\n",
       "      <td>2.295566</td>\n",
       "      <td>1369</td>\n",
       "      <td>13</td>\n",
       "    </tr>\n",
       "    <tr>\n",
       "      <th>1</th>\n",
       "      <td>1</td>\n",
       "      <td>22</td>\n",
       "      <td>9</td>\n",
       "      <td>0</td>\n",
       "      <td>1</td>\n",
       "      <td>0</td>\n",
       "      <td>1</td>\n",
       "      <td>13</td>\n",
       "      <td>0.0</td>\n",
       "      <td>0.0</td>\n",
       "      <td>3.59589</td>\n",
       "      <td>1</td>\n",
       "      <td>1</td>\n",
       "      <td>0</td>\n",
       "      <td>0.0</td>\n",
       "      <td>0.0</td>\n",
       "      <td>1.279792</td>\n",
       "      <td>484</td>\n",
       "      <td>13</td>\n",
       "    </tr>\n",
       "    <tr>\n",
       "      <th>2</th>\n",
       "      <td>1</td>\n",
       "      <td>30</td>\n",
       "      <td>12</td>\n",
       "      <td>1</td>\n",
       "      <td>0</td>\n",
       "      <td>0</td>\n",
       "      <td>0</td>\n",
       "      <td>13</td>\n",
       "      <td>0.0</td>\n",
       "      <td>0.0</td>\n",
       "      <td>24.90950</td>\n",
       "      <td>1</td>\n",
       "      <td>1</td>\n",
       "      <td>0</td>\n",
       "      <td>0.0</td>\n",
       "      <td>0.0</td>\n",
       "      <td>3.215249</td>\n",
       "      <td>900</td>\n",
       "      <td>13</td>\n",
       "    </tr>\n",
       "    <tr>\n",
       "      <th>3</th>\n",
       "      <td>1</td>\n",
       "      <td>27</td>\n",
       "      <td>11</td>\n",
       "      <td>1</td>\n",
       "      <td>0</td>\n",
       "      <td>0</td>\n",
       "      <td>1</td>\n",
       "      <td>13</td>\n",
       "      <td>0.0</td>\n",
       "      <td>0.0</td>\n",
       "      <td>7.50615</td>\n",
       "      <td>1</td>\n",
       "      <td>1</td>\n",
       "      <td>0</td>\n",
       "      <td>0.0</td>\n",
       "      <td>0.0</td>\n",
       "      <td>2.015723</td>\n",
       "      <td>729</td>\n",
       "      <td>13</td>\n",
       "    </tr>\n",
       "    <tr>\n",
       "      <th>4</th>\n",
       "      <td>1</td>\n",
       "      <td>33</td>\n",
       "      <td>8</td>\n",
       "      <td>1</td>\n",
       "      <td>0</td>\n",
       "      <td>0</td>\n",
       "      <td>1</td>\n",
       "      <td>13</td>\n",
       "      <td>0.0</td>\n",
       "      <td>0.0</td>\n",
       "      <td>0.28979</td>\n",
       "      <td>1</td>\n",
       "      <td>1</td>\n",
       "      <td>0</td>\n",
       "      <td>0.0</td>\n",
       "      <td>0.0</td>\n",
       "      <td>-1.238599</td>\n",
       "      <td>1089</td>\n",
       "      <td>13</td>\n",
       "    </tr>\n",
       "  </tbody>\n",
       "</table>\n",
       "</div>"
      ],
      "text/plain": [
       "   train  age  educ  black  hisp  married  nodegree  mosinex  re74  re75      re78  unem74  unem75  unem78  lre74  lre75     lre78  agesq  mostrn\n",
       "0      1   37    11      1     0        1         1       13   0.0   0.0   9.93005       1       1       0    0.0    0.0  2.295566   1369      13\n",
       "1      1   22     9      0     1        0         1       13   0.0   0.0   3.59589       1       1       0    0.0    0.0  1.279792    484      13\n",
       "2      1   30    12      1     0        0         0       13   0.0   0.0  24.90950       1       1       0    0.0    0.0  3.215249    900      13\n",
       "3      1   27    11      1     0        0         1       13   0.0   0.0   7.50615       1       1       0    0.0    0.0  2.015723    729      13\n",
       "4      1   33     8      1     0        0         1       13   0.0   0.0   0.28979       1       1       0    0.0    0.0 -1.238599   1089      13"
      ]
     },
     "execution_count": 25,
     "metadata": {},
     "output_type": "execute_result"
    }
   ],
   "source": [
    "df_jtrain = wr.data('jtrain2')\n",
    "df_jtrain.head()"
   ]
  },
  {
   "cell_type": "code",
   "execution_count": 26,
   "id": "39da9864-6d0d-494e-badc-c48ac471106e",
   "metadata": {
    "tags": []
   },
   "outputs": [
    {
     "name": "stdout",
     "output_type": "stream",
     "text": [
      "name of dataset: jtrain2\n",
      "no of variables: 19\n",
      "no of observations: 445\n",
      "\n",
      "+----------+---------------------------------+\n",
      "| variable | label                           |\n",
      "+----------+---------------------------------+\n",
      "| train    | =1 if assigned to job training  |\n",
      "| age      | age in 1977                     |\n",
      "| educ     | years of education              |\n",
      "| black    | =1 if black                     |\n",
      "| hisp     | =1 if Hispanic                  |\n",
      "| married  | =1 if married                   |\n",
      "| nodegree | =1 if no high school degree     |\n",
      "| mosinex  | # mnths prior to 1/78 in expmnt |\n",
      "| re74     | real earns., 1974, $1000s       |\n",
      "| re75     | real earns., 1975, $1000s       |\n",
      "| re78     | real earns., 1978, $1000s       |\n",
      "| unem74   | =1 if unem. all of 1974         |\n",
      "| unem75   | =1 if unem. all of 1975         |\n",
      "| unem78   | =1 if unem. all of 1978         |\n",
      "| lre74    | log(re74); zero if re74 == 0    |\n",
      "| lre75    | log(re75); zero if re75 == 0    |\n",
      "| lre78    | log(re78); zero if re78 == 0    |\n",
      "| agesq    | age^2                           |\n",
      "| mostrn   | months in training              |\n",
      "+----------+---------------------------------+\n",
      "\n",
      "R.J. Lalonde (1986), “Evaluating the Econometric Evaluations of\n",
      "Training Programs with Experimental Data,” American Economic Review\n",
      "76, 604-620. Professor Jeff Biddle, at MSU, kindly passed the data set\n",
      "along to me. He obtained it from Professor Lalonde.\n"
     ]
    }
   ],
   "source": [
    "#dataset desc\n",
    "wr.data('jtrain2', description=True)"
   ]
  },
  {
   "cell_type": "code",
   "execution_count": 27,
   "id": "085d1e4a-9695-4569-a589-6a74ca915264",
   "metadata": {
    "tags": []
   },
   "outputs": [
    {
     "data": {
      "text/plain": [
       "0.4157303370786517"
      ]
     },
     "execution_count": 27,
     "metadata": {},
     "output_type": "execute_result"
    }
   ],
   "source": [
    "#C4 i\n",
    "\n",
    "df_jtrain['train'].value_counts(normalize = True)[1]"
   ]
  },
  {
   "cell_type": "code",
   "execution_count": 28,
   "id": "7297b55b-1be9-4223-af9a-7bfa45a34624",
   "metadata": {
    "tags": []
   },
   "outputs": [
    {
     "name": "stdout",
     "output_type": "stream",
     "text": [
      "6.349145357189951\n",
      "4.554802284088845\n",
      "diff:  1.794343073101106\n",
      "The difference is ~ US$1,8k.\n"
     ]
    }
   ],
   "source": [
    "#c4 ii\n",
    "jtrain_treat = df_jtrain[df_jtrain['train'] == 1] ##assigned to job training dataset\n",
    "jtrain_control = df_jtrain[df_jtrain['train'] == 0]\n",
    "\n",
    "print(jtrain_treat['re78'].mean())\n",
    "print(jtrain_control['re78'].mean())\n",
    "\n",
    "print('diff: ', jtrain_treat['re78'].mean() - jtrain_control['re78'].mean())\n",
    "print('The difference is ~ US$1,8k.')"
   ]
  },
  {
   "cell_type": "code",
   "execution_count": 29,
   "id": "67179795-dbfd-4f04-ba74-925422e34c18",
   "metadata": {
    "tags": []
   },
   "outputs": [
    {
     "name": "stdout",
     "output_type": "stream",
     "text": [
      "0.24324324324324326\n",
      "0.35384615384615387\n",
      "around 35% in control group (not assigned to training) were unemployed versus 24% in control group.\n"
     ]
    }
   ],
   "source": [
    "#C4 iii\n",
    "print(jtrain_treat['unem78'].value_counts(normalize = True)[1])\n",
    "print(jtrain_control['unem78'].value_counts(normalize = True)[1])\n",
    "\n",
    "print('around 35% in control group (not assigned to training) were unemployed versus 24% in control group.')"
   ]
  },
  {
   "cell_type": "markdown",
   "id": "8c6fe769-9719-4b02-a840-b255f652c63e",
   "metadata": {},
   "source": [
    "### C5"
   ]
  },
  {
   "cell_type": "code",
   "execution_count": 30,
   "id": "3eb94cf5-5ec7-4846-97e7-84f0d8c5907b",
   "metadata": {
    "tags": []
   },
   "outputs": [
    {
     "data": {
      "text/html": [
       "<div>\n",
       "<style scoped>\n",
       "    .dataframe tbody tr th:only-of-type {\n",
       "        vertical-align: middle;\n",
       "    }\n",
       "\n",
       "    .dataframe tbody tr th {\n",
       "        vertical-align: top;\n",
       "    }\n",
       "\n",
       "    .dataframe thead th {\n",
       "        text-align: right;\n",
       "    }\n",
       "</style>\n",
       "<table border=\"1\" class=\"dataframe\">\n",
       "  <thead>\n",
       "    <tr style=\"text-align: right;\">\n",
       "      <th></th>\n",
       "      <th>mnthborn</th>\n",
       "      <th>yearborn</th>\n",
       "      <th>age</th>\n",
       "      <th>electric</th>\n",
       "      <th>radio</th>\n",
       "      <th>tv</th>\n",
       "      <th>bicycle</th>\n",
       "      <th>educ</th>\n",
       "      <th>ceb</th>\n",
       "      <th>agefbrth</th>\n",
       "      <th>children</th>\n",
       "      <th>knowmeth</th>\n",
       "      <th>usemeth</th>\n",
       "      <th>monthfm</th>\n",
       "      <th>yearfm</th>\n",
       "      <th>agefm</th>\n",
       "      <th>idlnchld</th>\n",
       "      <th>heduc</th>\n",
       "      <th>agesq</th>\n",
       "      <th>urban</th>\n",
       "      <th>urb_educ</th>\n",
       "      <th>spirit</th>\n",
       "      <th>protest</th>\n",
       "      <th>catholic</th>\n",
       "      <th>frsthalf</th>\n",
       "      <th>educ0</th>\n",
       "      <th>evermarr</th>\n",
       "    </tr>\n",
       "  </thead>\n",
       "  <tbody>\n",
       "    <tr>\n",
       "      <th>0</th>\n",
       "      <td>5</td>\n",
       "      <td>64</td>\n",
       "      <td>24</td>\n",
       "      <td>1.0</td>\n",
       "      <td>1.0</td>\n",
       "      <td>1.0</td>\n",
       "      <td>1.0</td>\n",
       "      <td>12</td>\n",
       "      <td>0</td>\n",
       "      <td>NaN</td>\n",
       "      <td>0</td>\n",
       "      <td>1.0</td>\n",
       "      <td>0.0</td>\n",
       "      <td>NaN</td>\n",
       "      <td>NaN</td>\n",
       "      <td>NaN</td>\n",
       "      <td>2.0</td>\n",
       "      <td>NaN</td>\n",
       "      <td>576</td>\n",
       "      <td>1</td>\n",
       "      <td>12</td>\n",
       "      <td>0</td>\n",
       "      <td>0</td>\n",
       "      <td>0</td>\n",
       "      <td>1</td>\n",
       "      <td>0</td>\n",
       "      <td>0</td>\n",
       "    </tr>\n",
       "    <tr>\n",
       "      <th>1</th>\n",
       "      <td>1</td>\n",
       "      <td>56</td>\n",
       "      <td>32</td>\n",
       "      <td>1.0</td>\n",
       "      <td>1.0</td>\n",
       "      <td>1.0</td>\n",
       "      <td>1.0</td>\n",
       "      <td>13</td>\n",
       "      <td>3</td>\n",
       "      <td>25.0</td>\n",
       "      <td>3</td>\n",
       "      <td>1.0</td>\n",
       "      <td>1.0</td>\n",
       "      <td>11.0</td>\n",
       "      <td>80.0</td>\n",
       "      <td>24.0</td>\n",
       "      <td>3.0</td>\n",
       "      <td>12.0</td>\n",
       "      <td>1024</td>\n",
       "      <td>1</td>\n",
       "      <td>13</td>\n",
       "      <td>0</td>\n",
       "      <td>0</td>\n",
       "      <td>0</td>\n",
       "      <td>1</td>\n",
       "      <td>0</td>\n",
       "      <td>1</td>\n",
       "    </tr>\n",
       "    <tr>\n",
       "      <th>2</th>\n",
       "      <td>7</td>\n",
       "      <td>58</td>\n",
       "      <td>30</td>\n",
       "      <td>1.0</td>\n",
       "      <td>0.0</td>\n",
       "      <td>0.0</td>\n",
       "      <td>0.0</td>\n",
       "      <td>5</td>\n",
       "      <td>1</td>\n",
       "      <td>27.0</td>\n",
       "      <td>1</td>\n",
       "      <td>1.0</td>\n",
       "      <td>0.0</td>\n",
       "      <td>6.0</td>\n",
       "      <td>83.0</td>\n",
       "      <td>24.0</td>\n",
       "      <td>5.0</td>\n",
       "      <td>7.0</td>\n",
       "      <td>900</td>\n",
       "      <td>1</td>\n",
       "      <td>5</td>\n",
       "      <td>1</td>\n",
       "      <td>0</td>\n",
       "      <td>0</td>\n",
       "      <td>0</td>\n",
       "      <td>0</td>\n",
       "      <td>1</td>\n",
       "    </tr>\n",
       "    <tr>\n",
       "      <th>3</th>\n",
       "      <td>11</td>\n",
       "      <td>45</td>\n",
       "      <td>42</td>\n",
       "      <td>1.0</td>\n",
       "      <td>0.0</td>\n",
       "      <td>1.0</td>\n",
       "      <td>0.0</td>\n",
       "      <td>4</td>\n",
       "      <td>3</td>\n",
       "      <td>17.0</td>\n",
       "      <td>2</td>\n",
       "      <td>1.0</td>\n",
       "      <td>0.0</td>\n",
       "      <td>1.0</td>\n",
       "      <td>61.0</td>\n",
       "      <td>15.0</td>\n",
       "      <td>3.0</td>\n",
       "      <td>11.0</td>\n",
       "      <td>1764</td>\n",
       "      <td>1</td>\n",
       "      <td>4</td>\n",
       "      <td>0</td>\n",
       "      <td>0</td>\n",
       "      <td>0</td>\n",
       "      <td>0</td>\n",
       "      <td>0</td>\n",
       "      <td>1</td>\n",
       "    </tr>\n",
       "    <tr>\n",
       "      <th>4</th>\n",
       "      <td>5</td>\n",
       "      <td>45</td>\n",
       "      <td>43</td>\n",
       "      <td>1.0</td>\n",
       "      <td>1.0</td>\n",
       "      <td>1.0</td>\n",
       "      <td>1.0</td>\n",
       "      <td>11</td>\n",
       "      <td>2</td>\n",
       "      <td>24.0</td>\n",
       "      <td>2</td>\n",
       "      <td>1.0</td>\n",
       "      <td>1.0</td>\n",
       "      <td>3.0</td>\n",
       "      <td>66.0</td>\n",
       "      <td>20.0</td>\n",
       "      <td>2.0</td>\n",
       "      <td>14.0</td>\n",
       "      <td>1849</td>\n",
       "      <td>1</td>\n",
       "      <td>11</td>\n",
       "      <td>0</td>\n",
       "      <td>1</td>\n",
       "      <td>0</td>\n",
       "      <td>1</td>\n",
       "      <td>0</td>\n",
       "      <td>1</td>\n",
       "    </tr>\n",
       "  </tbody>\n",
       "</table>\n",
       "</div>"
      ],
      "text/plain": [
       "   mnthborn  yearborn  age  electric  radio   tv  bicycle  educ  ceb  agefbrth  children  knowmeth  usemeth  monthfm  yearfm  agefm  idlnchld  heduc  agesq  urban  urb_educ  spirit  protest  catholic  frsthalf  educ0  evermarr\n",
       "0         5        64   24       1.0    1.0  1.0      1.0    12    0       NaN         0       1.0      0.0      NaN     NaN    NaN       2.0    NaN    576      1        12       0        0         0         1      0         0\n",
       "1         1        56   32       1.0    1.0  1.0      1.0    13    3      25.0         3       1.0      1.0     11.0    80.0   24.0       3.0   12.0   1024      1        13       0        0         0         1      0         1\n",
       "2         7        58   30       1.0    0.0  0.0      0.0     5    1      27.0         1       1.0      0.0      6.0    83.0   24.0       5.0    7.0    900      1         5       1        0         0         0      0         1\n",
       "3        11        45   42       1.0    0.0  1.0      0.0     4    3      17.0         2       1.0      0.0      1.0    61.0   15.0       3.0   11.0   1764      1         4       0        0         0         0      0         1\n",
       "4         5        45   43       1.0    1.0  1.0      1.0    11    2      24.0         2       1.0      1.0      3.0    66.0   20.0       2.0   14.0   1849      1        11       0        1         0         1      0         1"
      ]
     },
     "metadata": {},
     "output_type": "display_data"
    },
    {
     "name": "stdout",
     "output_type": "stream",
     "text": [
      "name of dataset: fertil2\n",
      "no of variables: 27\n",
      "no of observations: 4361\n",
      "\n",
      "+----------+--------------------------------+\n",
      "| variable | label                          |\n",
      "+----------+--------------------------------+\n",
      "| mnthborn | month woman born               |\n",
      "| yearborn | year woman born                |\n",
      "| age      | age in years                   |\n",
      "| electric | =1 if has electricity          |\n",
      "| radio    | =1 if has radio                |\n",
      "| tv       | =1 if has tv                   |\n",
      "| bicycle  | =1 if has bicycle              |\n",
      "| educ     | years of education             |\n",
      "| ceb      | children ever born             |\n",
      "| agefbrth | age at first birth             |\n",
      "| children | number of living children      |\n",
      "| knowmeth | =1 if know about birth control |\n",
      "| usemeth  | =1 if ever use birth control   |\n",
      "| monthfm  | month of first marriage        |\n",
      "| yearfm   | year of first marriage         |\n",
      "| agefm    | age at first marriage          |\n",
      "| idlnchld | 'ideal' number of children     |\n",
      "| heduc    | husband's years of education   |\n",
      "| agesq    | age^2                          |\n",
      "| urban    | =1 if live in urban area       |\n",
      "| urb_educ | urban*educ                     |\n",
      "| spirit   | =1 if religion == spirit       |\n",
      "| protest  | =1 if religion == protestant   |\n",
      "| catholic | =1 if religion == catholic     |\n",
      "| frsthalf | =1 if mnthborn <= 6            |\n",
      "| educ0    | =1 if educ == 0                |\n",
      "| evermarr | =1 if ever married             |\n",
      "+----------+--------------------------------+\n",
      "\n",
      "These data were obtained by James Heakins, a former MSU undergraduate,\n",
      "for a term project. They come from Botswana’s 1988 Demographic and\n",
      "Health Survey.\n"
     ]
    },
    {
     "data": {
      "text/plain": [
       "None"
      ]
     },
     "metadata": {},
     "output_type": "display_data"
    }
   ],
   "source": [
    "df_fertil = wr.data('fertil2')\n",
    "display(df_fertil.head())\n",
    "\n",
    "#dataset desc\n",
    "display(wr.data('fertil2', description=True))"
   ]
  },
  {
   "cell_type": "code",
   "execution_count": 31,
   "id": "ca97554b-917a-4de6-88c7-9c9c193c3ca6",
   "metadata": {
    "tags": []
   },
   "outputs": [
    {
     "name": "stdout",
     "output_type": "stream",
     "text": [
      "n max of children: 13\n",
      "n min of children: 0\n"
     ]
    }
   ],
   "source": [
    "# C5 i\n",
    "print('n max of children:', df_fertil['children'].max())\n",
    "print('n min of children:', df_fertil['children'].min())"
   ]
  },
  {
   "cell_type": "code",
   "execution_count": 32,
   "id": "7707f934-732b-4208-8bbc-5772105b110e",
   "metadata": {
    "tags": []
   },
   "outputs": [
    {
     "data": {
      "text/plain": [
       "0.14020192748967417"
      ]
     },
     "execution_count": 32,
     "metadata": {},
     "output_type": "execute_result"
    }
   ],
   "source": [
    "# C5 ii\n",
    "\n",
    "df_fertil['electric'].value_counts(normalize = True)[1]"
   ]
  },
  {
   "cell_type": "code",
   "execution_count": 33,
   "id": "9f71dfa9-e2bc-497c-b3e8-8d9fb59a13bd",
   "metadata": {
    "tags": []
   },
   "outputs": [
    {
     "name": "stdout",
     "output_type": "stream",
     "text": [
      "Mean of children in sample with electric: 1.8985270049099836\n",
      "Mean of children in sample without electric: 2.327728849746464\n"
     ]
    }
   ],
   "source": [
    "# C5 iii\n",
    "\n",
    "fertil_elec = df_fertil[df_fertil['electric'] == 1]\n",
    "fertil_nelec = df_fertil[df_fertil['electric'] == 0]\n",
    "\n",
    "print('Mean of children in sample with electric:', fertil_elec['children'].mean())\n",
    "print('Mean of children in sample without electric:', fertil_nelec['children'].mean())"
   ]
  },
  {
   "cell_type": "code",
   "execution_count": null,
   "id": "ab98a75d-b370-46d7-8324-2ab3a5a34516",
   "metadata": {},
   "outputs": [],
   "source": []
  }
 ],
 "metadata": {
  "kernelspec": {
   "display_name": "Python 3 (ipykernel)",
   "language": "python",
   "name": "python3"
  },
  "language_info": {
   "codemirror_mode": {
    "name": "ipython",
    "version": 3
   },
   "file_extension": ".py",
   "mimetype": "text/x-python",
   "name": "python",
   "nbconvert_exporter": "python",
   "pygments_lexer": "ipython3",
   "version": "3.8.16"
  }
 },
 "nbformat": 4,
 "nbformat_minor": 5
}
